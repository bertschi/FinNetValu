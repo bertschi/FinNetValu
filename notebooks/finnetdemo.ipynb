{
 "cells": [
  {
   "cell_type": "code",
   "execution_count": 1,
   "metadata": {},
   "outputs": [
    {
     "data": {
      "text/plain": [
       "\"/Users/wolfgang/Desktop/Uni/HIWI/Bertschinger/SysRisk/Code/FinNetValu/Project.toml\""
      ]
     },
     "execution_count": 1,
     "metadata": {},
     "output_type": "execute_result"
    }
   ],
   "source": [
    "using Pkg\n",
    "Pkg.activate(\"../\")"
   ]
  },
  {
   "cell_type": "code",
   "execution_count": 2,
   "metadata": {},
   "outputs": [
    {
     "name": "stderr",
     "output_type": "stream",
     "text": [
      "┌ Info: Recompiling stale cache file /Users/wolfgang/.julia/compiled/v1.0/FinNetValu/88Ew8.ji for FinNetValu [2b4a169e-d971-11e8-348f-a5a54fd349b0]\n",
      "└ @ Base loading.jl:1190\n",
      "┌ Info: Recompiling stale cache file /Users/wolfgang/.julia/compiled/v1.0/DataFrames/AR9oZ.ji for DataFrames [a93c6f00-e57d-5684-b7b6-d8193f3e46c0]\n",
      "└ @ Base loading.jl:1190\n",
      "┌ Info: Recompiling stale cache file /Users/wolfgang/.julia/compiled/v1.0/Plots/ld3vC.ji for Plots [91a5bcdd-55d7-5caf-9e0b-520d859cae80]\n",
      "└ @ Base loading.jl:1190\n"
     ]
    }
   ],
   "source": [
    "using FinNetValu\n",
    "using ForwardDiff\n",
    "using Distributions\n",
    "using LinearAlgebra\n",
    "using DataFrames\n",
    "using SparseArrays\n",
    "using Plots"
   ]
  },
  {
   "cell_type": "markdown",
   "metadata": {},
   "source": [
    "# Some examples of network valuations"
   ]
  },
  {
   "cell_type": "markdown",
   "metadata": {},
   "source": [
    "## Replicate fig. 2 (left panel) of Barucca et al.\n",
    "\n",
    "Here, we illustrate how the network valuation models can be used.\n",
    "\n",
    "First, look at the documentation for the EisenbergNoeModel"
   ]
  },
  {
   "cell_type": "code",
   "execution_count": 3,
   "metadata": {},
   "outputs": [
    {
     "name": "stdout",
     "output_type": "stream",
     "text": [
      "search: \u001b[0m\u001b[1mE\u001b[22m\u001b[0m\u001b[1mi\u001b[22m\u001b[0m\u001b[1ms\u001b[22m\u001b[0m\u001b[1me\u001b[22m\u001b[0m\u001b[1mn\u001b[22m\u001b[0m\u001b[1mb\u001b[22m\u001b[0m\u001b[1me\u001b[22m\u001b[0m\u001b[1mr\u001b[22m\u001b[0m\u001b[1mg\u001b[22m\u001b[0m\u001b[1mN\u001b[22m\u001b[0m\u001b[1mo\u001b[22m\u001b[0m\u001b[1me\u001b[22m\u001b[0m\u001b[1mM\u001b[22m\u001b[0m\u001b[1mo\u001b[22m\u001b[0m\u001b[1md\u001b[22m\u001b[0m\u001b[1me\u001b[22m\u001b[0m\u001b[1ml\u001b[22m\n",
      "\n"
     ]
    },
    {
     "data": {
      "text/markdown": [
       "```\n",
       "EisenbergNoeModel(Lᵉ, L)\n",
       "```\n",
       "\n",
       "Creates an instance of the NEVAModel with valuation functions\n",
       "\n",
       "$$\n",
       "\\begin{align}\n",
       "\\mathbb{V}^e_i(E_i) &= 1 \\quad \\forall i \\\\\n",
       "\\mathbb{V}_{ij}(E_j) &= \\unicode{x1D7D9}_{E_j \\geq 0} + \\left(\\frac{E_j + \\bar{p}_j}{\\bar{p}_j}\\right)^+ \\unicode{x1D7D9}_{E_j < 0} \\quad \\forall i, j\n",
       "\\end{align}\n",
       "$$\n",
       "\n",
       "where $\\bar{p}_j = \\sum_k L_{jk}$.\n",
       "\n",
       "This valuation was shown to correspond to the model by Eisenberg & Noe.\n"
      ],
      "text/plain": [
       "\u001b[36m  EisenbergNoeModel(Lᵉ, L)\u001b[39m\n",
       "\n",
       "  Creates an instance of the NEVAModel with valuation functions\n",
       "\n",
       "\u001b[35m\\begin{align}\u001b[39m\n",
       "\u001b[35m\\mathbb{V}^e_i(E_i) &= 1 \\quad \\forall i \\\\\u001b[39m\n",
       "\u001b[35m\\mathbb{V}_{ij}(E_j) &= \\unicode{x1D7D9}_{E_j \\geq 0} + \\left(\\frac{E_j + \\bar{p}_j}{\\bar{p}_j}\\right)^+ \\unicode{x1D7D9}_{E_j < 0} \\quad \\forall i, j\u001b[39m\n",
       "\u001b[35m\\end{align}\u001b[39m\n",
       "\n",
       "  where \u001b[35m\\bar{p}_j = \\sum_k L_{jk}\u001b[39m.\n",
       "\n",
       "  This valuation was shown to correspond to the model by Eisenberg & Noe."
      ]
     },
     "execution_count": 3,
     "metadata": {},
     "output_type": "execute_result"
    }
   ],
   "source": [
    "?EisenbergNoeModel"
   ]
  },
  {
   "cell_type": "markdown",
   "metadata": {},
   "source": [
    "Set the parameters as in the paper and create all models.\n",
    "\n",
    "TODO: Implement the ex-ante Eisenberg & Noe model"
   ]
  },
  {
   "cell_type": "code",
   "execution_count": 4,
   "metadata": {},
   "outputs": [
    {
     "data": {
      "text/plain": [
       "3-element Array{NEVAModel,1}:\n",
       " Eisenberg & Noe model with N = 3 firms. \n",
       " Furfine model with N = 3 firms.         \n",
       " Linear Debt Rank model with N = 3 firms."
      ]
     },
     "execution_count": 4,
     "metadata": {},
     "output_type": "execute_result"
    }
   ],
   "source": [
    "Lᵉ = [9., 4., 2.]\n",
    "A = [0 0.5 0;\n",
    "     0 0 0.5;\n",
    "     0.5 0 0]\n",
    "Aᵉ = [10., 5., 3.]\n",
    "\n",
    "models = [EisenbergNoeModel(Lᵉ, A'),\n",
    "          FurfineModel(Lᵉ, A', 0.0),\n",
    "          LinearDebtRankModel(Lᵉ, A')]"
   ]
  },
  {
   "cell_type": "markdown",
   "metadata": {},
   "source": [
    "Then shock each model by decreasing the external asset value by a factor $\\alpha$ and compute the impact on the equity value as in the paper, i.e.\n",
    "$$\n",
    "    \\frac{\\sum_i {\\Delta}E_i - {\\Delta}A^e_i}{\\sum_{ij} A_{ij}}\n",
    "$$\n",
    "where ${\\Delta}A^e = \\alpha A^e$."
   ]
  },
  {
   "cell_type": "code",
   "execution_count": 5,
   "metadata": {},
   "outputs": [
    {
     "data": {
      "text/plain": [
       "runshock (generic function with 1 method)"
      ]
     },
     "execution_count": 5,
     "metadata": {},
     "output_type": "execute_result"
    }
   ],
   "source": [
    "function runshock(model, Aᵉ, α)\n",
    "    E₀ = fixvalue(model, Aᵉ)\n",
    "    ΔAᵉ = α .* Aᵉ\n",
    "    ΔE  = E₀ .- fixvalue(model, Aᵉ .- ΔAᵉ)\n",
    "    sum(ΔE .- ΔAᵉ) / sum(model.A)\n",
    "end"
   ]
  },
  {
   "cell_type": "code",
   "execution_count": 6,
   "metadata": {},
   "outputs": [
    {
     "data": {
      "text/plain": [
       "101×3 Array{Float64,2}:\n",
       "  0.0           0.0          0.0        \n",
       "  3.60822e-16   3.60822e-16  9.03037e-9 \n",
       " -7.58652e-16  -7.58652e-16  1.03422e-9 \n",
       " -3.88578e-16  -3.88578e-16  5.11193e-10\n",
       "  2.59052e-16   2.59052e-16  8.06174e-9 \n",
       "  6.29126e-16   6.29126e-16  7.78693e-9 \n",
       " -4.81097e-16  -4.81097e-16  5.28638e-9 \n",
       " -1.85037e-16  -1.85037e-16  9.10972e-9 \n",
       "  5.18104e-16   5.18104e-16  1.48175e-8 \n",
       " -9.4369e-16   -9.4369e-16   8.8836e-9  \n",
       " -2.22045e-16  -2.22045e-16  7.89447e-9 \n",
       "  7.40149e-17   7.40149e-17  3.30149e-8 \n",
       "  8.14164e-16   8.14164e-16  2.04415e-7 \n",
       "  ⋮                                     \n",
       "  1.0           1.0          1.0        \n",
       "  1.0           1.0          1.0        \n",
       "  1.0           1.0          1.0        \n",
       "  1.0           1.0          1.0        \n",
       "  1.0           1.0          1.0        \n",
       "  1.0           1.0          1.0        \n",
       "  1.0           1.0          1.0        \n",
       "  1.0           1.0          1.0        \n",
       "  1.0           1.0          1.0        \n",
       "  1.0           1.0          1.0        \n",
       "  1.0           1.0          1.0        \n",
       "  1.0           1.0          1.0        "
      ]
     },
     "execution_count": 6,
     "metadata": {},
     "output_type": "execute_result"
    }
   ],
   "source": [
    "αs = range(0, length = 101, stop = 0.6)\n",
    "shocks = collect(runshock(model, Aᵉ, α)\n",
    "                 for α in αs,\n",
    "                     model in models)"
   ]
  },
  {
   "cell_type": "code",
   "execution_count": 7,
   "metadata": {},
   "outputs": [
    {
     "data": {
      "image/svg+xml": [
       "<?xml version=\"1.0\" encoding=\"utf-8\"?>\n",
       "<svg xmlns=\"http://www.w3.org/2000/svg\" xmlns:xlink=\"http://www.w3.org/1999/xlink\" width=\"600\" height=\"400\" viewBox=\"0 0 2400 1600\">\n",
       "<defs>\n",
       "  <clipPath id=\"clip5400\">\n",
       "    <rect x=\"0\" y=\"0\" width=\"2000\" height=\"2000\"/>\n",
       "  </clipPath>\n",
       "</defs>\n",
       "<defs>\n",
       "  <clipPath id=\"clip5401\">\n",
       "    <rect x=\"0\" y=\"0\" width=\"2400\" height=\"1600\"/>\n",
       "  </clipPath>\n",
       "</defs>\n",
       "<polygon clip-path=\"url(#clip5401)\" points=\"\n",
       "0,1600 2400,1600 2400,0 0,0 \n",
       "  \" fill=\"#ffffff\" fill-opacity=\"1\"/>\n",
       "<defs>\n",
       "  <clipPath id=\"clip5402\">\n",
       "    <rect x=\"480\" y=\"0\" width=\"1681\" height=\"1600\"/>\n",
       "  </clipPath>\n",
       "</defs>\n",
       "<polygon clip-path=\"url(#clip5401)\" points=\"\n",
       "188.156,1503.47 2321.26,1503.47 2321.26,47.2441 188.156,47.2441 \n",
       "  \" fill=\"#ffffff\" fill-opacity=\"1\"/>\n",
       "<defs>\n",
       "  <clipPath id=\"clip5403\">\n",
       "    <rect x=\"188\" y=\"47\" width=\"2134\" height=\"1457\"/>\n",
       "  </clipPath>\n",
       "</defs>\n",
       "<polyline clip-path=\"url(#clip5403)\" style=\"stroke:#000000; stroke-width:2; stroke-opacity:0.1; fill:none\" points=\"\n",
       "  248.527,1503.47 248.527,47.2441 \n",
       "  \"/>\n",
       "<polyline clip-path=\"url(#clip5403)\" style=\"stroke:#000000; stroke-width:2; stroke-opacity:0.1; fill:none\" points=\"\n",
       "  583.921,1503.47 583.921,47.2441 \n",
       "  \"/>\n",
       "<polyline clip-path=\"url(#clip5403)\" style=\"stroke:#000000; stroke-width:2; stroke-opacity:0.1; fill:none\" points=\"\n",
       "  919.314,1503.47 919.314,47.2441 \n",
       "  \"/>\n",
       "<polyline clip-path=\"url(#clip5403)\" style=\"stroke:#000000; stroke-width:2; stroke-opacity:0.1; fill:none\" points=\"\n",
       "  1254.71,1503.47 1254.71,47.2441 \n",
       "  \"/>\n",
       "<polyline clip-path=\"url(#clip5403)\" style=\"stroke:#000000; stroke-width:2; stroke-opacity:0.1; fill:none\" points=\"\n",
       "  1590.1,1503.47 1590.1,47.2441 \n",
       "  \"/>\n",
       "<polyline clip-path=\"url(#clip5403)\" style=\"stroke:#000000; stroke-width:2; stroke-opacity:0.1; fill:none\" points=\"\n",
       "  1925.5,1503.47 1925.5,47.2441 \n",
       "  \"/>\n",
       "<polyline clip-path=\"url(#clip5403)\" style=\"stroke:#000000; stroke-width:2; stroke-opacity:0.1; fill:none\" points=\"\n",
       "  2260.89,1503.47 2260.89,47.2441 \n",
       "  \"/>\n",
       "<polyline clip-path=\"url(#clip5403)\" style=\"stroke:#000000; stroke-width:2; stroke-opacity:0.1; fill:none\" points=\"\n",
       "  188.156,1462.26 2321.26,1462.26 \n",
       "  \"/>\n",
       "<polyline clip-path=\"url(#clip5403)\" style=\"stroke:#000000; stroke-width:2; stroke-opacity:0.1; fill:none\" points=\"\n",
       "  188.156,1118.81 2321.26,1118.81 \n",
       "  \"/>\n",
       "<polyline clip-path=\"url(#clip5403)\" style=\"stroke:#000000; stroke-width:2; stroke-opacity:0.1; fill:none\" points=\"\n",
       "  188.156,775.359 2321.26,775.359 \n",
       "  \"/>\n",
       "<polyline clip-path=\"url(#clip5403)\" style=\"stroke:#000000; stroke-width:2; stroke-opacity:0.1; fill:none\" points=\"\n",
       "  188.156,431.909 2321.26,431.909 \n",
       "  \"/>\n",
       "<polyline clip-path=\"url(#clip5403)\" style=\"stroke:#000000; stroke-width:2; stroke-opacity:0.1; fill:none\" points=\"\n",
       "  188.156,88.4582 2321.26,88.4582 \n",
       "  \"/>\n",
       "<polyline clip-path=\"url(#clip5401)\" style=\"stroke:#000000; stroke-width:4; stroke-opacity:1; fill:none\" points=\"\n",
       "  188.156,1503.47 2321.26,1503.47 \n",
       "  \"/>\n",
       "<polyline clip-path=\"url(#clip5401)\" style=\"stroke:#000000; stroke-width:4; stroke-opacity:1; fill:none\" points=\"\n",
       "  188.156,1503.47 188.156,47.2441 \n",
       "  \"/>\n",
       "<polyline clip-path=\"url(#clip5401)\" style=\"stroke:#000000; stroke-width:4; stroke-opacity:1; fill:none\" points=\"\n",
       "  248.527,1503.47 248.527,1481.63 \n",
       "  \"/>\n",
       "<polyline clip-path=\"url(#clip5401)\" style=\"stroke:#000000; stroke-width:4; stroke-opacity:1; fill:none\" points=\"\n",
       "  583.921,1503.47 583.921,1481.63 \n",
       "  \"/>\n",
       "<polyline clip-path=\"url(#clip5401)\" style=\"stroke:#000000; stroke-width:4; stroke-opacity:1; fill:none\" points=\"\n",
       "  919.314,1503.47 919.314,1481.63 \n",
       "  \"/>\n",
       "<polyline clip-path=\"url(#clip5401)\" style=\"stroke:#000000; stroke-width:4; stroke-opacity:1; fill:none\" points=\"\n",
       "  1254.71,1503.47 1254.71,1481.63 \n",
       "  \"/>\n",
       "<polyline clip-path=\"url(#clip5401)\" style=\"stroke:#000000; stroke-width:4; stroke-opacity:1; fill:none\" points=\"\n",
       "  1590.1,1503.47 1590.1,1481.63 \n",
       "  \"/>\n",
       "<polyline clip-path=\"url(#clip5401)\" style=\"stroke:#000000; stroke-width:4; stroke-opacity:1; fill:none\" points=\"\n",
       "  1925.5,1503.47 1925.5,1481.63 \n",
       "  \"/>\n",
       "<polyline clip-path=\"url(#clip5401)\" style=\"stroke:#000000; stroke-width:4; stroke-opacity:1; fill:none\" points=\"\n",
       "  2260.89,1503.47 2260.89,1481.63 \n",
       "  \"/>\n",
       "<polyline clip-path=\"url(#clip5401)\" style=\"stroke:#000000; stroke-width:4; stroke-opacity:1; fill:none\" points=\"\n",
       "  188.156,1462.26 220.153,1462.26 \n",
       "  \"/>\n",
       "<polyline clip-path=\"url(#clip5401)\" style=\"stroke:#000000; stroke-width:4; stroke-opacity:1; fill:none\" points=\"\n",
       "  188.156,1118.81 220.153,1118.81 \n",
       "  \"/>\n",
       "<polyline clip-path=\"url(#clip5401)\" style=\"stroke:#000000; stroke-width:4; stroke-opacity:1; fill:none\" points=\"\n",
       "  188.156,775.359 220.153,775.359 \n",
       "  \"/>\n",
       "<polyline clip-path=\"url(#clip5401)\" style=\"stroke:#000000; stroke-width:4; stroke-opacity:1; fill:none\" points=\"\n",
       "  188.156,431.909 220.153,431.909 \n",
       "  \"/>\n",
       "<polyline clip-path=\"url(#clip5401)\" style=\"stroke:#000000; stroke-width:4; stroke-opacity:1; fill:none\" points=\"\n",
       "  188.156,88.4582 220.153,88.4582 \n",
       "  \"/>\n",
       "<g clip-path=\"url(#clip5401)\">\n",
       "<text style=\"fill:#000000; fill-opacity:1; font-family:Arial,Helvetica Neue,Helvetica,sans-serif; font-size:48px; text-anchor:middle;\" transform=\"rotate(0, 248.527, 1557.47)\" x=\"248.527\" y=\"1557.47\">0.0</text>\n",
       "</g>\n",
       "<g clip-path=\"url(#clip5401)\">\n",
       "<text style=\"fill:#000000; fill-opacity:1; font-family:Arial,Helvetica Neue,Helvetica,sans-serif; font-size:48px; text-anchor:middle;\" transform=\"rotate(0, 583.921, 1557.47)\" x=\"583.921\" y=\"1557.47\">0.1</text>\n",
       "</g>\n",
       "<g clip-path=\"url(#clip5401)\">\n",
       "<text style=\"fill:#000000; fill-opacity:1; font-family:Arial,Helvetica Neue,Helvetica,sans-serif; font-size:48px; text-anchor:middle;\" transform=\"rotate(0, 919.314, 1557.47)\" x=\"919.314\" y=\"1557.47\">0.2</text>\n",
       "</g>\n",
       "<g clip-path=\"url(#clip5401)\">\n",
       "<text style=\"fill:#000000; fill-opacity:1; font-family:Arial,Helvetica Neue,Helvetica,sans-serif; font-size:48px; text-anchor:middle;\" transform=\"rotate(0, 1254.71, 1557.47)\" x=\"1254.71\" y=\"1557.47\">0.3</text>\n",
       "</g>\n",
       "<g clip-path=\"url(#clip5401)\">\n",
       "<text style=\"fill:#000000; fill-opacity:1; font-family:Arial,Helvetica Neue,Helvetica,sans-serif; font-size:48px; text-anchor:middle;\" transform=\"rotate(0, 1590.1, 1557.47)\" x=\"1590.1\" y=\"1557.47\">0.4</text>\n",
       "</g>\n",
       "<g clip-path=\"url(#clip5401)\">\n",
       "<text style=\"fill:#000000; fill-opacity:1; font-family:Arial,Helvetica Neue,Helvetica,sans-serif; font-size:48px; text-anchor:middle;\" transform=\"rotate(0, 1925.5, 1557.47)\" x=\"1925.5\" y=\"1557.47\">0.5</text>\n",
       "</g>\n",
       "<g clip-path=\"url(#clip5401)\">\n",
       "<text style=\"fill:#000000; fill-opacity:1; font-family:Arial,Helvetica Neue,Helvetica,sans-serif; font-size:48px; text-anchor:middle;\" transform=\"rotate(0, 2260.89, 1557.47)\" x=\"2260.89\" y=\"1557.47\">0.6</text>\n",
       "</g>\n",
       "<g clip-path=\"url(#clip5401)\">\n",
       "<text style=\"fill:#000000; fill-opacity:1; font-family:Arial,Helvetica Neue,Helvetica,sans-serif; font-size:48px; text-anchor:end;\" transform=\"rotate(0, 164.156, 1479.76)\" x=\"164.156\" y=\"1479.76\">0.00</text>\n",
       "</g>\n",
       "<g clip-path=\"url(#clip5401)\">\n",
       "<text style=\"fill:#000000; fill-opacity:1; font-family:Arial,Helvetica Neue,Helvetica,sans-serif; font-size:48px; text-anchor:end;\" transform=\"rotate(0, 164.156, 1136.31)\" x=\"164.156\" y=\"1136.31\">0.25</text>\n",
       "</g>\n",
       "<g clip-path=\"url(#clip5401)\">\n",
       "<text style=\"fill:#000000; fill-opacity:1; font-family:Arial,Helvetica Neue,Helvetica,sans-serif; font-size:48px; text-anchor:end;\" transform=\"rotate(0, 164.156, 792.859)\" x=\"164.156\" y=\"792.859\">0.50</text>\n",
       "</g>\n",
       "<g clip-path=\"url(#clip5401)\">\n",
       "<text style=\"fill:#000000; fill-opacity:1; font-family:Arial,Helvetica Neue,Helvetica,sans-serif; font-size:48px; text-anchor:end;\" transform=\"rotate(0, 164.156, 449.409)\" x=\"164.156\" y=\"449.409\">0.75</text>\n",
       "</g>\n",
       "<g clip-path=\"url(#clip5401)\">\n",
       "<text style=\"fill:#000000; fill-opacity:1; font-family:Arial,Helvetica Neue,Helvetica,sans-serif; font-size:48px; text-anchor:end;\" transform=\"rotate(0, 164.156, 105.958)\" x=\"164.156\" y=\"105.958\">1.00</text>\n",
       "</g>\n",
       "<polyline clip-path=\"url(#clip5403)\" style=\"stroke:#009af9; stroke-width:4; stroke-opacity:1; fill:none\" points=\"\n",
       "  248.527,1462.26 268.651,1462.26 288.774,1462.26 308.898,1462.26 329.022,1462.26 349.145,1462.26 369.269,1462.26 389.393,1462.26 409.516,1462.26 429.64,1462.26 \n",
       "  449.763,1462.26 469.887,1462.26 490.011,1462.26 510.134,1462.26 530.258,1462.26 550.381,1462.26 570.505,1462.26 590.629,1443.94 610.752,1388.99 630.876,1334.04 \n",
       "  651,1279.09 671.123,1224.13 691.247,1169.18 711.37,1114.23 731.494,1059.28 751.618,1004.33 771.741,1004.33 791.865,1004.33 811.989,1000.66 832.112,984.177 \n",
       "  852.236,967.692 872.359,951.206 892.483,901.749 912.607,841.302 932.73,780.855 952.854,720.407 972.977,659.96 993.101,599.513 1013.22,539.065 1033.35,478.618 \n",
       "  1053.47,418.171 1073.6,357.723 1093.72,311.93 1113.84,295.444 1133.97,278.959 1154.09,262.473 1174.21,245.988 1194.34,229.502 1214.46,213.016 1234.58,196.531 \n",
       "  1254.71,180.045 1274.83,163.559 1294.96,147.074 1315.08,130.588 1335.2,114.102 1355.33,97.6169 1375.45,88.4582 1395.57,88.4582 1415.7,88.4582 1435.82,88.4582 \n",
       "  1455.94,88.4582 1476.07,88.4582 1496.19,88.4582 1516.32,88.4582 1536.44,88.4582 1556.56,88.4582 1576.69,88.4582 1596.81,88.4582 1616.93,88.4582 1637.06,88.4582 \n",
       "  1657.18,88.4582 1677.3,88.4582 1697.43,88.4582 1717.55,88.4582 1737.67,88.4582 1757.8,88.4582 1777.92,88.4582 1798.05,88.4582 1818.17,88.4582 1838.29,88.4582 \n",
       "  1858.42,88.4582 1878.54,88.4582 1898.66,88.4582 1918.79,88.4582 1938.91,88.4582 1959.03,88.4582 1979.16,88.4582 1999.28,88.4582 2019.41,88.4582 2039.53,88.4582 \n",
       "  2059.65,88.4582 2079.78,88.4582 2099.9,88.4582 2120.02,88.4582 2140.15,88.4582 2160.27,88.4582 2180.39,88.4582 2200.52,88.4582 2220.64,88.4582 2240.77,88.4582 \n",
       "  2260.89,88.4582 \n",
       "  \"/>\n",
       "<polyline clip-path=\"url(#clip5403)\" style=\"stroke:#e26f46; stroke-width:4; stroke-opacity:1; fill:none\" points=\"\n",
       "  248.527,1462.26 268.651,1462.26 288.774,1462.26 308.898,1462.26 329.022,1462.26 349.145,1462.26 369.269,1462.26 389.393,1462.26 409.516,1462.26 429.64,1462.26 \n",
       "  449.763,1462.26 469.887,1462.26 490.011,1462.26 510.134,1462.26 530.258,1462.26 550.381,1462.26 570.505,1462.26 590.629,1004.33 610.752,1004.33 630.876,1004.33 \n",
       "  651,1004.33 671.123,1004.33 691.247,1004.33 711.37,1004.33 731.494,1004.33 751.618,1004.33 771.741,1004.33 791.865,1004.33 811.989,88.4582 832.112,88.4582 \n",
       "  852.236,88.4582 872.359,88.4582 892.483,88.4582 912.607,88.4582 932.73,88.4582 952.854,88.4582 972.977,88.4582 993.101,88.4582 1013.22,88.4582 1033.35,88.4582 \n",
       "  1053.47,88.4582 1073.6,88.4582 1093.72,88.4582 1113.84,88.4582 1133.97,88.4582 1154.09,88.4582 1174.21,88.4582 1194.34,88.4582 1214.46,88.4582 1234.58,88.4582 \n",
       "  1254.71,88.4582 1274.83,88.4582 1294.96,88.4582 1315.08,88.4582 1335.2,88.4582 1355.33,88.4582 1375.45,88.4582 1395.57,88.4582 1415.7,88.4582 1435.82,88.4582 \n",
       "  1455.94,88.4582 1476.07,88.4582 1496.19,88.4582 1516.32,88.4582 1536.44,88.4582 1556.56,88.4582 1576.69,88.4582 1596.81,88.4582 1616.93,88.4582 1637.06,88.4582 \n",
       "  1657.18,88.4582 1677.3,88.4582 1697.43,88.4582 1717.55,88.4582 1737.67,88.4582 1757.8,88.4582 1777.92,88.4582 1798.05,88.4582 1818.17,88.4582 1838.29,88.4582 \n",
       "  1858.42,88.4582 1878.54,88.4582 1898.66,88.4582 1918.79,88.4582 1938.91,88.4582 1959.03,88.4582 1979.16,88.4582 1999.28,88.4582 2019.41,88.4582 2039.53,88.4582 \n",
       "  2059.65,88.4582 2079.78,88.4582 2099.9,88.4582 2120.02,88.4582 2140.15,88.4582 2160.27,88.4582 2180.39,88.4582 2200.52,88.4582 2220.64,88.4582 2240.77,88.4582 \n",
       "  2260.89,88.4582 \n",
       "  \"/>\n",
       "<polyline clip-path=\"url(#clip5403)\" style=\"stroke:#3da44d; stroke-width:4; stroke-opacity:1; fill:none\" points=\"\n",
       "  248.527,1462.26 268.651,1462.26 288.774,1462.26 308.898,1462.26 329.022,1462.26 349.145,1462.26 369.269,1462.26 389.393,1462.26 409.516,1462.26 429.64,1462.26 \n",
       "  449.763,1462.26 469.887,1462.26 490.011,1462.26 510.134,460.404 530.258,434.337 550.381,405.533 570.505,373.529 590.629,337.746 610.752,297.456 630.876,251.731 \n",
       "  651,199.364 671.123,178.278 691.247,167.308 711.37,155.664 731.494,143.281 751.618,130.089 771.741,116.003 791.865,100.931 811.989,88.4582 832.112,88.4582 \n",
       "  852.236,88.4582 872.359,88.4582 892.483,88.4582 912.607,88.4582 932.73,88.4582 952.854,88.4582 972.977,88.4582 993.101,88.4582 1013.22,88.4582 1033.35,88.4582 \n",
       "  1053.47,88.4582 1073.6,88.4582 1093.72,88.4582 1113.84,88.4582 1133.97,88.4582 1154.09,88.4582 1174.21,88.4582 1194.34,88.4582 1214.46,88.4582 1234.58,88.4582 \n",
       "  1254.71,88.4582 1274.83,88.4582 1294.96,88.4582 1315.08,88.4582 1335.2,88.4582 1355.33,88.4582 1375.45,88.4582 1395.57,88.4582 1415.7,88.4582 1435.82,88.4582 \n",
       "  1455.94,88.4582 1476.07,88.4582 1496.19,88.4582 1516.32,88.4582 1536.44,88.4582 1556.56,88.4582 1576.69,88.4582 1596.81,88.4582 1616.93,88.4582 1637.06,88.4582 \n",
       "  1657.18,88.4582 1677.3,88.4582 1697.43,88.4582 1717.55,88.4582 1737.67,88.4582 1757.8,88.4582 1777.92,88.4582 1798.05,88.4582 1818.17,88.4582 1838.29,88.4582 \n",
       "  1858.42,88.4582 1878.54,88.4582 1898.66,88.4582 1918.79,88.4582 1938.91,88.4582 1959.03,88.4582 1979.16,88.4582 1999.28,88.4582 2019.41,88.4582 2039.53,88.4582 \n",
       "  2059.65,88.4582 2079.78,88.4582 2099.9,88.4582 2120.02,88.4582 2140.15,88.4582 2160.27,88.4582 2180.39,88.4582 2200.52,88.4582 2220.64,88.4582 2240.77,88.4582 \n",
       "  2260.89,88.4582 \n",
       "  \"/>\n",
       "<polygon clip-path=\"url(#clip5401)\" points=\"\n",
       "1958.43,372.684 2249.26,372.684 2249.26,130.764 1958.43,130.764 \n",
       "  \" fill=\"#ffffff\" fill-opacity=\"1\"/>\n",
       "<polyline clip-path=\"url(#clip5401)\" style=\"stroke:#000000; stroke-width:4; stroke-opacity:1; fill:none\" points=\"\n",
       "  1958.43,372.684 2249.26,372.684 2249.26,130.764 1958.43,130.764 1958.43,372.684 \n",
       "  \"/>\n",
       "<polyline clip-path=\"url(#clip5401)\" style=\"stroke:#009af9; stroke-width:4; stroke-opacity:1; fill:none\" points=\"\n",
       "  1982.43,191.244 2126.43,191.244 \n",
       "  \"/>\n",
       "<g clip-path=\"url(#clip5401)\">\n",
       "<text style=\"fill:#000000; fill-opacity:1; font-family:Arial,Helvetica Neue,Helvetica,sans-serif; font-size:48px; text-anchor:start;\" transform=\"rotate(0, 2150.43, 208.744)\" x=\"2150.43\" y=\"208.744\">y1</text>\n",
       "</g>\n",
       "<polyline clip-path=\"url(#clip5401)\" style=\"stroke:#e26f46; stroke-width:4; stroke-opacity:1; fill:none\" points=\"\n",
       "  1982.43,251.724 2126.43,251.724 \n",
       "  \"/>\n",
       "<g clip-path=\"url(#clip5401)\">\n",
       "<text style=\"fill:#000000; fill-opacity:1; font-family:Arial,Helvetica Neue,Helvetica,sans-serif; font-size:48px; text-anchor:start;\" transform=\"rotate(0, 2150.43, 269.224)\" x=\"2150.43\" y=\"269.224\">y2</text>\n",
       "</g>\n",
       "<polyline clip-path=\"url(#clip5401)\" style=\"stroke:#3da44d; stroke-width:4; stroke-opacity:1; fill:none\" points=\"\n",
       "  1982.43,312.204 2126.43,312.204 \n",
       "  \"/>\n",
       "<g clip-path=\"url(#clip5401)\">\n",
       "<text style=\"fill:#000000; fill-opacity:1; font-family:Arial,Helvetica Neue,Helvetica,sans-serif; font-size:48px; text-anchor:start;\" transform=\"rotate(0, 2150.43, 329.704)\" x=\"2150.43\" y=\"329.704\">y3</text>\n",
       "</g>\n",
       "</svg>\n"
      ]
     },
     "execution_count": 7,
     "metadata": {},
     "output_type": "execute_result"
    }
   ],
   "source": [
    "plot(αs, shocks)"
   ]
  },
  {
   "cell_type": "markdown",
   "metadata": {},
   "source": [
    "## Replicate Greeks figures from our paper\n",
    "\n",
    "Start with $\\Delta$, i.e. compute the risk-neutral expectation over the gradient wrt $a_0$. As in the paper, we show the mean impact of an asset price shock for each bank, separately for equity and debt."
   ]
  },
  {
   "cell_type": "code",
   "execution_count": 8,
   "metadata": {},
   "outputs": [
    {
     "data": {
      "text/plain": [
       "delta (generic function with 1 method)"
      ]
     },
     "execution_count": 8,
     "metadata": {},
     "output_type": "execute_result"
    }
   ],
   "source": [
    "function delta(net, a₀, θ, Z)\n",
    "    @assert length(a₀) == numfirms(net)\n",
    "    A = Aτ(a₀, θ, Z)\n",
    "    x = fixvalue(net, A;\n",
    "                 method = :anderson, m = 5)\n",
    "    dVdA = fixjacobian(net, A, x)\n",
    "    dAda₀ = ForwardDiff.jacobian(a -> Aτ(a, θ, Z), a₀)\n",
    "    ## Compute Δ as in eq. ???\n",
    "    dVda₀ = discount(θ) * dVdA * dAda₀\n",
    "\n",
    "    N = numfirms(net)\n",
    "    deltaEq = sum(equityview(net, dVda₀)) / N\n",
    "    deltaDb = sum(debtview(net, dVda₀)) / N\n",
    "    [deltaEq, deltaDb, deltaEq + deltaDb]\n",
    "end"
   ]
  },
  {
   "cell_type": "code",
   "execution_count": 9,
   "metadata": {},
   "outputs": [],
   "source": [
    "θ = BlackScholesParams(0.0, 1.0, 0.4)\n",
    "N = 60\n",
    "k = 3.0\n",
    "wᵈ = 0.6;"
   ]
  },
  {
   "cell_type": "markdown",
   "metadata": {},
   "source": [
    "Create a random Erdos-Renyi network of debt cross-holdings for the above parameters."
   ]
  },
  {
   "cell_type": "code",
   "execution_count": 10,
   "metadata": {},
   "outputs": [],
   "source": [
    "function randnet(N, k, wᵈ)\n",
    "    p = k / (N - 1)\n",
    "    XOSModel(spzeros(N, N),\n",
    "             rescale(erdosrenyi(N, p), wᵈ),\n",
    "             I, ones(N))\n",
    "end\n",
    "\n",
    "nextnet = calm(() -> randnet(N, k, wᵈ), 100);"
   ]
  },
  {
   "cell_type": "markdown",
   "metadata": {},
   "source": [
    "Run over a range of initial asset prices and compute $\\Delta$ in each case.\n",
    "\n",
    "Note that calming the network creation function achieves that each network is used 100 times during the Monte-Carlo expectation."
   ]
  },
  {
   "cell_type": "code",
   "execution_count": 11,
   "metadata": {},
   "outputs": [
    {
     "name": "stdout",
     "output_type": "stream",
     "text": [
      " 90.382153 seconds (103.90 M allocations: 122.082 GiB, 17.81% gc time)\n"
     ]
    }
   ],
   "source": [
    "a₀ = range(0, length = 31, stop = 2.0)\n",
    "@time Δ = collect(expectation(z -> delta(nextnet(), a * ones(N), θ, z),\n",
    "                              MonteCarloSampler(MvNormal(N, 1.0)),\n",
    "                              2500)\n",
    "                  for a in a₀);"
   ]
  },
  {
   "cell_type": "code",
   "execution_count": 12,
   "metadata": {},
   "outputs": [
    {
     "data": {
      "image/svg+xml": [
       "<?xml version=\"1.0\" encoding=\"utf-8\"?>\n",
       "<svg xmlns=\"http://www.w3.org/2000/svg\" xmlns:xlink=\"http://www.w3.org/1999/xlink\" width=\"600\" height=\"400\" viewBox=\"0 0 2400 1600\">\n",
       "<defs>\n",
       "  <clipPath id=\"clip5600\">\n",
       "    <rect x=\"0\" y=\"0\" width=\"2000\" height=\"2000\"/>\n",
       "  </clipPath>\n",
       "</defs>\n",
       "<defs>\n",
       "  <clipPath id=\"clip5601\">\n",
       "    <rect x=\"0\" y=\"0\" width=\"2400\" height=\"1600\"/>\n",
       "  </clipPath>\n",
       "</defs>\n",
       "<polygon clip-path=\"url(#clip5601)\" points=\"\n",
       "0,1600 2400,1600 2400,0 0,0 \n",
       "  \" fill=\"#ffffff\" fill-opacity=\"1\"/>\n",
       "<defs>\n",
       "  <clipPath id=\"clip5602\">\n",
       "    <rect x=\"480\" y=\"0\" width=\"1681\" height=\"1600\"/>\n",
       "  </clipPath>\n",
       "</defs>\n",
       "<polygon clip-path=\"url(#clip5601)\" points=\"\n",
       "161.394,1503.47 2321.26,1503.47 2321.26,47.2441 161.394,47.2441 \n",
       "  \" fill=\"#ffffff\" fill-opacity=\"1\"/>\n",
       "<defs>\n",
       "  <clipPath id=\"clip5603\">\n",
       "    <rect x=\"161\" y=\"47\" width=\"2161\" height=\"1457\"/>\n",
       "  </clipPath>\n",
       "</defs>\n",
       "<polyline clip-path=\"url(#clip5603)\" style=\"stroke:#000000; stroke-width:2; stroke-opacity:0.1; fill:none\" points=\"\n",
       "  222.522,1503.47 222.522,47.2441 \n",
       "  \"/>\n",
       "<polyline clip-path=\"url(#clip5603)\" style=\"stroke:#000000; stroke-width:2; stroke-opacity:0.1; fill:none\" points=\"\n",
       "  731.925,1503.47 731.925,47.2441 \n",
       "  \"/>\n",
       "<polyline clip-path=\"url(#clip5603)\" style=\"stroke:#000000; stroke-width:2; stroke-opacity:0.1; fill:none\" points=\"\n",
       "  1241.33,1503.47 1241.33,47.2441 \n",
       "  \"/>\n",
       "<polyline clip-path=\"url(#clip5603)\" style=\"stroke:#000000; stroke-width:2; stroke-opacity:0.1; fill:none\" points=\"\n",
       "  1750.73,1503.47 1750.73,47.2441 \n",
       "  \"/>\n",
       "<polyline clip-path=\"url(#clip5603)\" style=\"stroke:#000000; stroke-width:2; stroke-opacity:0.1; fill:none\" points=\"\n",
       "  2260.13,1503.47 2260.13,47.2441 \n",
       "  \"/>\n",
       "<polyline clip-path=\"url(#clip5603)\" style=\"stroke:#000000; stroke-width:2; stroke-opacity:0.1; fill:none\" points=\"\n",
       "  161.394,1462.26 2321.26,1462.26 \n",
       "  \"/>\n",
       "<polyline clip-path=\"url(#clip5603)\" style=\"stroke:#000000; stroke-width:2; stroke-opacity:0.1; fill:none\" points=\"\n",
       "  161.394,1171.02 2321.26,1171.02 \n",
       "  \"/>\n",
       "<polyline clip-path=\"url(#clip5603)\" style=\"stroke:#000000; stroke-width:2; stroke-opacity:0.1; fill:none\" points=\"\n",
       "  161.394,879.782 2321.26,879.782 \n",
       "  \"/>\n",
       "<polyline clip-path=\"url(#clip5603)\" style=\"stroke:#000000; stroke-width:2; stroke-opacity:0.1; fill:none\" points=\"\n",
       "  161.394,588.542 2321.26,588.542 \n",
       "  \"/>\n",
       "<polyline clip-path=\"url(#clip5603)\" style=\"stroke:#000000; stroke-width:2; stroke-opacity:0.1; fill:none\" points=\"\n",
       "  161.394,297.302 2321.26,297.302 \n",
       "  \"/>\n",
       "<polyline clip-path=\"url(#clip5601)\" style=\"stroke:#000000; stroke-width:4; stroke-opacity:1; fill:none\" points=\"\n",
       "  161.394,1503.47 2321.26,1503.47 \n",
       "  \"/>\n",
       "<polyline clip-path=\"url(#clip5601)\" style=\"stroke:#000000; stroke-width:4; stroke-opacity:1; fill:none\" points=\"\n",
       "  161.394,1503.47 161.394,47.2441 \n",
       "  \"/>\n",
       "<polyline clip-path=\"url(#clip5601)\" style=\"stroke:#000000; stroke-width:4; stroke-opacity:1; fill:none\" points=\"\n",
       "  222.522,1503.47 222.522,1481.63 \n",
       "  \"/>\n",
       "<polyline clip-path=\"url(#clip5601)\" style=\"stroke:#000000; stroke-width:4; stroke-opacity:1; fill:none\" points=\"\n",
       "  731.925,1503.47 731.925,1481.63 \n",
       "  \"/>\n",
       "<polyline clip-path=\"url(#clip5601)\" style=\"stroke:#000000; stroke-width:4; stroke-opacity:1; fill:none\" points=\"\n",
       "  1241.33,1503.47 1241.33,1481.63 \n",
       "  \"/>\n",
       "<polyline clip-path=\"url(#clip5601)\" style=\"stroke:#000000; stroke-width:4; stroke-opacity:1; fill:none\" points=\"\n",
       "  1750.73,1503.47 1750.73,1481.63 \n",
       "  \"/>\n",
       "<polyline clip-path=\"url(#clip5601)\" style=\"stroke:#000000; stroke-width:4; stroke-opacity:1; fill:none\" points=\"\n",
       "  2260.13,1503.47 2260.13,1481.63 \n",
       "  \"/>\n",
       "<polyline clip-path=\"url(#clip5601)\" style=\"stroke:#000000; stroke-width:4; stroke-opacity:1; fill:none\" points=\"\n",
       "  161.394,1462.26 193.792,1462.26 \n",
       "  \"/>\n",
       "<polyline clip-path=\"url(#clip5601)\" style=\"stroke:#000000; stroke-width:4; stroke-opacity:1; fill:none\" points=\"\n",
       "  161.394,1171.02 193.792,1171.02 \n",
       "  \"/>\n",
       "<polyline clip-path=\"url(#clip5601)\" style=\"stroke:#000000; stroke-width:4; stroke-opacity:1; fill:none\" points=\"\n",
       "  161.394,879.782 193.792,879.782 \n",
       "  \"/>\n",
       "<polyline clip-path=\"url(#clip5601)\" style=\"stroke:#000000; stroke-width:4; stroke-opacity:1; fill:none\" points=\"\n",
       "  161.394,588.542 193.792,588.542 \n",
       "  \"/>\n",
       "<polyline clip-path=\"url(#clip5601)\" style=\"stroke:#000000; stroke-width:4; stroke-opacity:1; fill:none\" points=\"\n",
       "  161.394,297.302 193.792,297.302 \n",
       "  \"/>\n",
       "<g clip-path=\"url(#clip5601)\">\n",
       "<text style=\"fill:#000000; fill-opacity:1; font-family:Arial,Helvetica Neue,Helvetica,sans-serif; font-size:48px; text-anchor:middle;\" transform=\"rotate(0, 222.522, 1557.47)\" x=\"222.522\" y=\"1557.47\">0.0</text>\n",
       "</g>\n",
       "<g clip-path=\"url(#clip5601)\">\n",
       "<text style=\"fill:#000000; fill-opacity:1; font-family:Arial,Helvetica Neue,Helvetica,sans-serif; font-size:48px; text-anchor:middle;\" transform=\"rotate(0, 731.925, 1557.47)\" x=\"731.925\" y=\"1557.47\">0.5</text>\n",
       "</g>\n",
       "<g clip-path=\"url(#clip5601)\">\n",
       "<text style=\"fill:#000000; fill-opacity:1; font-family:Arial,Helvetica Neue,Helvetica,sans-serif; font-size:48px; text-anchor:middle;\" transform=\"rotate(0, 1241.33, 1557.47)\" x=\"1241.33\" y=\"1557.47\">1.0</text>\n",
       "</g>\n",
       "<g clip-path=\"url(#clip5601)\">\n",
       "<text style=\"fill:#000000; fill-opacity:1; font-family:Arial,Helvetica Neue,Helvetica,sans-serif; font-size:48px; text-anchor:middle;\" transform=\"rotate(0, 1750.73, 1557.47)\" x=\"1750.73\" y=\"1557.47\">1.5</text>\n",
       "</g>\n",
       "<g clip-path=\"url(#clip5601)\">\n",
       "<text style=\"fill:#000000; fill-opacity:1; font-family:Arial,Helvetica Neue,Helvetica,sans-serif; font-size:48px; text-anchor:middle;\" transform=\"rotate(0, 2260.13, 1557.47)\" x=\"2260.13\" y=\"1557.47\">2.0</text>\n",
       "</g>\n",
       "<g clip-path=\"url(#clip5601)\">\n",
       "<text style=\"fill:#000000; fill-opacity:1; font-family:Arial,Helvetica Neue,Helvetica,sans-serif; font-size:48px; text-anchor:end;\" transform=\"rotate(0, 137.394, 1479.76)\" x=\"137.394\" y=\"1479.76\">0.0</text>\n",
       "</g>\n",
       "<g clip-path=\"url(#clip5601)\">\n",
       "<text style=\"fill:#000000; fill-opacity:1; font-family:Arial,Helvetica Neue,Helvetica,sans-serif; font-size:48px; text-anchor:end;\" transform=\"rotate(0, 137.394, 1188.52)\" x=\"137.394\" y=\"1188.52\">0.5</text>\n",
       "</g>\n",
       "<g clip-path=\"url(#clip5601)\">\n",
       "<text style=\"fill:#000000; fill-opacity:1; font-family:Arial,Helvetica Neue,Helvetica,sans-serif; font-size:48px; text-anchor:end;\" transform=\"rotate(0, 137.394, 897.282)\" x=\"137.394\" y=\"897.282\">1.0</text>\n",
       "</g>\n",
       "<g clip-path=\"url(#clip5601)\">\n",
       "<text style=\"fill:#000000; fill-opacity:1; font-family:Arial,Helvetica Neue,Helvetica,sans-serif; font-size:48px; text-anchor:end;\" transform=\"rotate(0, 137.394, 606.042)\" x=\"137.394\" y=\"606.042\">1.5</text>\n",
       "</g>\n",
       "<g clip-path=\"url(#clip5601)\">\n",
       "<text style=\"fill:#000000; fill-opacity:1; font-family:Arial,Helvetica Neue,Helvetica,sans-serif; font-size:48px; text-anchor:end;\" transform=\"rotate(0, 137.394, 314.802)\" x=\"137.394\" y=\"314.802\">2.0</text>\n",
       "</g>\n",
       "<polyline clip-path=\"url(#clip5603)\" style=\"stroke:#009af9; stroke-width:4; stroke-opacity:1; fill:none\" points=\"\n",
       "  222.522,1462.26 290.443,1462.26 358.363,1458.52 426.283,1414.94 494.204,1297.44 562.124,1194.29 630.044,1108.88 697.964,1065.96 765.885,1013.16 833.805,982.287 \n",
       "  901.725,958.908 969.646,939.863 1037.57,926.42 1105.49,917.242 1173.41,907.222 1241.33,902.429 1309.25,896.466 1377.17,894.989 1445.09,891.42 1513.01,888.648 \n",
       "  1580.93,887.726 1648.85,885.042 1716.77,883.521 1784.69,882.561 1852.61,881.419 1920.53,881.427 1988.45,880.647 2056.37,880.353 2124.29,881.35 2192.21,880.535 \n",
       "  2260.13,880.574 \n",
       "  \"/>\n",
       "<polyline clip-path=\"url(#clip5603)\" style=\"stroke:#e26f46; stroke-width:4; stroke-opacity:1; fill:none\" points=\"\n",
       "  222.522,115.413 290.443,88.4582 358.363,102.829 426.283,213.898 494.204,479.41 562.124,727.093 630.044,926.183 697.964,1034.52 765.885,1146.43 833.805,1220.87 \n",
       "  901.725,1278.8 969.646,1321.47 1037.57,1350.74 1105.49,1374.55 1173.41,1395.72 1241.33,1410.28 1309.25,1421.29 1377.17,1427.11 1445.09,1436.55 1513.01,1440.6 \n",
       "  1580.93,1444.75 1648.85,1449.38 1716.77,1451.49 1784.69,1454.26 1852.61,1456 1920.53,1457.01 1988.45,1457.92 2056.37,1458.52 2124.29,1459.54 2192.21,1460.2 \n",
       "  2260.13,1460.43 \n",
       "  \"/>\n",
       "<polyline clip-path=\"url(#clip5603)\" style=\"stroke:#3da44d; stroke-width:4; stroke-opacity:1; fill:none\" points=\"\n",
       "  222.522,115.413 290.443,88.4582 358.363,99.0924 426.283,166.579 494.204,314.587 562.124,459.12 630.044,572.806 697.964,638.22 765.885,697.331 833.805,740.892 \n",
       "  901.725,775.45 969.646,799.071 1037.57,814.896 1105.49,829.536 1173.41,840.677 1241.33,850.45 1309.25,855.491 1377.17,859.84 1445.09,865.708 1513.01,866.988 \n",
       "  1580.93,870.215 1648.85,872.164 1716.77,872.753 1784.69,874.563 1852.61,875.162 1920.53,876.181 1988.45,876.303 2056.37,876.617 2124.29,878.631 2192.21,878.477 \n",
       "  2260.13,878.741 \n",
       "  \"/>\n",
       "<polygon clip-path=\"url(#clip5601)\" points=\"\n",
       "1958.43,372.684 2249.26,372.684 2249.26,130.764 1958.43,130.764 \n",
       "  \" fill=\"#ffffff\" fill-opacity=\"1\"/>\n",
       "<polyline clip-path=\"url(#clip5601)\" style=\"stroke:#000000; stroke-width:4; stroke-opacity:1; fill:none\" points=\"\n",
       "  1958.43,372.684 2249.26,372.684 2249.26,130.764 1958.43,130.764 1958.43,372.684 \n",
       "  \"/>\n",
       "<polyline clip-path=\"url(#clip5601)\" style=\"stroke:#009af9; stroke-width:4; stroke-opacity:1; fill:none\" points=\"\n",
       "  1982.43,191.244 2126.43,191.244 \n",
       "  \"/>\n",
       "<g clip-path=\"url(#clip5601)\">\n",
       "<text style=\"fill:#000000; fill-opacity:1; font-family:Arial,Helvetica Neue,Helvetica,sans-serif; font-size:48px; text-anchor:start;\" transform=\"rotate(0, 2150.43, 208.744)\" x=\"2150.43\" y=\"208.744\">y1</text>\n",
       "</g>\n",
       "<polyline clip-path=\"url(#clip5601)\" style=\"stroke:#e26f46; stroke-width:4; stroke-opacity:1; fill:none\" points=\"\n",
       "  1982.43,251.724 2126.43,251.724 \n",
       "  \"/>\n",
       "<g clip-path=\"url(#clip5601)\">\n",
       "<text style=\"fill:#000000; fill-opacity:1; font-family:Arial,Helvetica Neue,Helvetica,sans-serif; font-size:48px; text-anchor:start;\" transform=\"rotate(0, 2150.43, 269.224)\" x=\"2150.43\" y=\"269.224\">y2</text>\n",
       "</g>\n",
       "<polyline clip-path=\"url(#clip5601)\" style=\"stroke:#3da44d; stroke-width:4; stroke-opacity:1; fill:none\" points=\"\n",
       "  1982.43,312.204 2126.43,312.204 \n",
       "  \"/>\n",
       "<g clip-path=\"url(#clip5601)\">\n",
       "<text style=\"fill:#000000; fill-opacity:1; font-family:Arial,Helvetica Neue,Helvetica,sans-serif; font-size:48px; text-anchor:start;\" transform=\"rotate(0, 2150.43, 329.704)\" x=\"2150.43\" y=\"329.704\">y3</text>\n",
       "</g>\n",
       "</svg>\n"
      ]
     },
     "execution_count": 12,
     "metadata": {},
     "output_type": "execute_result"
    }
   ],
   "source": [
    "plot(a₀, transpose(hcat(Δ...)))"
   ]
  },
  {
   "cell_type": "markdown",
   "metadata": {},
   "source": [
    "## Testing Barabasi Albert Graph"
   ]
  },
  {
   "cell_type": "code",
   "execution_count": 3,
   "metadata": {},
   "outputs": [
    {
     "data": {
      "text/plain": [
       "6×6 SparseMatrixCSC{Float64,Int64} with 18 stored entries:\n",
       "  [2, 1]  =  1.0\n",
       "  [3, 1]  =  1.0\n",
       "  [4, 1]  =  1.0\n",
       "  [5, 1]  =  1.0\n",
       "  [1, 2]  =  1.0\n",
       "  [3, 2]  =  1.0\n",
       "  [4, 2]  =  1.0\n",
       "  [5, 2]  =  1.0\n",
       "  [6, 2]  =  1.0\n",
       "  [1, 3]  =  1.0\n",
       "  [2, 3]  =  1.0\n",
       "  [1, 4]  =  1.0\n",
       "  [2, 4]  =  1.0\n",
       "  [1, 5]  =  1.0\n",
       "  [2, 5]  =  1.0\n",
       "  [6, 5]  =  1.0\n",
       "  [2, 6]  =  1.0\n",
       "  [5, 6]  =  1.0"
      ]
     },
     "execution_count": 3,
     "metadata": {},
     "output_type": "execute_result"
    }
   ],
   "source": [
    "FinNetValu.barabasialbert(6,2)"
   ]
  },
  {
   "cell_type": "code",
   "execution_count": null,
   "metadata": {},
   "outputs": [],
   "source": []
  }
 ],
 "metadata": {
  "kernelspec": {
   "display_name": "Julia 1.2.0",
   "language": "julia",
   "name": "julia-1.2"
  },
  "language_info": {
   "file_extension": ".jl",
   "mimetype": "application/julia",
   "name": "julia",
   "version": "1.4.0"
  }
 },
 "nbformat": 4,
 "nbformat_minor": 2
}
