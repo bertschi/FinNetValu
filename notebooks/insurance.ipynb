{
 "cells": [
  {
   "cell_type": "code",
   "execution_count": null,
   "metadata": {},
   "outputs": [],
   "source": [
    "using Pkg\n",
    "Pkg.activate(\"/home/bertschi/GitRepos/FinNetValu/\")"
   ]
  },
  {
   "cell_type": "code",
   "execution_count": null,
   "metadata": {},
   "outputs": [],
   "source": [
    "using FinNetValu\n",
    "using Distributions\n",
    "using LinearAlgebra\n",
    "using SparseArrays\n",
    "using ForwardDiff\n",
    "using Plots\n",
    "using DataFrames\n",
    "using DataFramesMeta\n",
    "using CSV\n",
    "\n",
    "# pyplot()"
   ]
  },
  {
   "cell_type": "code",
   "execution_count": null,
   "metadata": {},
   "outputs": [],
   "source": [
    "r = 0.0\n",
    "τ = 1.0\n",
    "σ = [0.2, 0.2]\n",
    "Lᵨ = cholesky([1.0 0; 0 1.0]).L\n",
    "\n",
    "θ = BlackScholesParams(r, τ, σ, Lᵨ)"
   ]
  },
  {
   "cell_type": "code",
   "execution_count": null,
   "metadata": {},
   "outputs": [],
   "source": [
    "function debtval(net, a₀, θ)\n",
    "    N = numfirms(net)\n",
    "    expectation(Z -> discount(θ) .* debtview(net, fixvalue(net, Aτ(a₀, θ, Z); m = 0)),\n",
    "                MonteCarloSampler(MvNormal(N, 1.0)),\n",
    "                25000)\n",
    "end\n",
    "\n",
    "function insurancecost(net, a₀, θ)\n",
    "    1 .- debtval(net, a₀, θ) ./ (discount(θ) .* net.d)\n",
    "end"
   ]
  },
  {
   "cell_type": "code",
   "execution_count": null,
   "metadata": {},
   "outputs": [],
   "source": [
    "function create_net(di₁, de₁, di₂, de₂)\n",
    "    d = [di₁ + de₁, di₂ + de₂]\n",
    "    Mᵈ = [0 (di₂ / d[2]); (di₁ / d[1]) 0]\n",
    "    XOSModel(spzeros(2,2), Mᵈ, I, d)\n",
    "end\n",
    "\n",
    "function create_net_sym(di, de)\n",
    "    d = [di + de, di + de]\n",
    "    Mᵈ = [0 (di / d[2]); (di / d[1]) 0]\n",
    "    XOSModel(spzeros(2,2), Mᵈ, I, d)\n",
    "end"
   ]
  },
  {
   "cell_type": "code",
   "execution_count": null,
   "metadata": {},
   "outputs": [],
   "source": [
    "di₂ = 0.6\n",
    "de₂ = 0.4\n",
    "df = DataFrame(di₁ = Float64[], de₁ = Float64[], in1 = Float64[], in2 = Float64[], a0 = Float64[])\n",
    "\n",
    "for di₁ in range(0.2, length = 11, stop = 1)\n",
    "    for de₁ in range(0.2, length = 11, stop = 1)\n",
    "        for a₀ in range(0.2, length = 5, stop = 0.8)\n",
    "            net = create_net(di₁, de₁, di₂, de₂)\n",
    "            ins = insurancecost(net, a₀, θ)\n",
    "            push!(df, (di₁, de₁, ins[1], ins[2], a₀))\n",
    "       end\n",
    "    end\n",
    "end\n",
    "\n",
    "df"
   ]
  },
  {
   "cell_type": "code",
   "execution_count": null,
   "metadata": {},
   "outputs": [],
   "source": [
    "CSV.write(\"/tmp/foo.csv\", df)"
   ]
  },
  {
   "cell_type": "code",
   "execution_count": null,
   "metadata": {},
   "outputs": [],
   "source": [
    "? XOSModel"
   ]
  },
  {
   "cell_type": "code",
   "execution_count": null,
   "metadata": {},
   "outputs": [],
   "source": [
    "di₂ = 0.6\n",
    "de₂ = 0.4\n",
    "df = DataFrame(di1 = Float64[], de1 = Float64[], A1 = Float64[], A2 = Float64[], sol1 = Bool[], sol2 = Bool[])\n",
    "\n",
    "for di₁ in range(0.01, length = 5, stop = 0.8)\n",
    "    for de₁ in range(0.01, length = 5, stop = 0.8)\n",
    "        net = create_net(di₁, de₁, di₂, de₂)\n",
    "        # net = create_net_sym(di₁, de₁)\n",
    "        # for A1 in range(0.0, length = 51, stop = 3)\n",
    "        for logA1 in range(-2, length = 51, stop = 1)\n",
    "            for logA2 in range(-2, length = 51, stop = 1)\n",
    "                A = 10 .^ [logA1, logA2]\n",
    "                x = fixvalue(net, A; m = 0)\n",
    "                debt = debtview(net, x)\n",
    "                sol  = solvent(net, x)\n",
    "                ins = (net.d .- debt) ./ net.d\n",
    "                push!(df, (di₁, de₁, A[1], A[2], sol[1], sol[2]))\n",
    "            end\n",
    "        end\n",
    "    end\n",
    "end\n",
    "\n",
    "CSV.write(\"/tmp/baz.csv\", df)"
   ]
  },
  {
   "cell_type": "code",
   "execution_count": null,
   "metadata": {},
   "outputs": [],
   "source": [
    "di₂ = 0.6\n",
    "de₂ = 0.4\n",
    "df = DataFrame(di1 = Float64[], de1 = Float64[], in1 = Float64[], in2 = Float64[], lam1 = Float64[], lam2 = Float64[], sigma = Float64[], a0 = Float64[])\n",
    "\n",
    "for di1 in range(0.01, length = 11, stop = 0.8)\n",
    "    for de1 in range(0.01, length = 5, stop = 0.8)\n",
    "        net = create_net(di1, de1, di₂, de₂)\n",
    "        for sigma in [0.1, 0.2, 0.4]\n",
    "            θ = BlackScholesParams(r, τ, sigma, Lᵨ)\n",
    "            for a0 in [0.6, 0.8, 1, 1.2]\n",
    "                N = numfirms(net)\n",
    "                x = expectation(Z -> discount(θ) * fixvalue(net, Aτ(a0, θ, Z); m = 0),\n",
    "                                MonteCarloSampler(MvNormal(N, 1.0)),\n",
    "                                25000)\n",
    "                v = equityview(net, x) .+ debtview(net, x)\n",
    "                lam = equityview(net, x) ./ v\n",
    "                ins = 1 .- debtview(net, x) ./ (discount(θ) .* net.d)\n",
    "                push!(df, (di1, de1, ins[1], ins[2], lam[1], lam[2], sigma, a0))\n",
    "            end\n",
    "       end\n",
    "    end\n",
    "end\n",
    "\n",
    "CSV.write(\"/tmp/qux.csv\", df)"
   ]
  },
  {
   "cell_type": "code",
   "execution_count": null,
   "metadata": {},
   "outputs": [],
   "source": [
    "using RCall\n",
    "\n",
    "R\"library(tidyverse)\"\n",
    "R\"library(ggthemes)\"\n",
    "R\"library(viridis)\""
   ]
  },
  {
   "cell_type": "code",
   "execution_count": null,
   "metadata": {},
   "outputs": [],
   "source": [
    "R\"read_csv(\\\"/tmp/baz.csv\\\") %>% ggplot(aes(A1, A2, fill = interaction(sol1, sol2))) + geom_tile() + scale_fill_colorblind() + theme_tufte() + facet_grid(de1 ~ di1) + scale_x_log10() + scale_y_log10() + geom_vline(xintercept = 1) + geom_hline(yintercept=1)\""
   ]
  },
  {
   "cell_type": "code",
   "execution_count": null,
   "metadata": {},
   "outputs": [],
   "source": [
    "R\"read_csv(\\\"/tmp/qux.csv\\\") %>% mutate(in12 = in1 + in2, lam12 = lam1 + lam2) %>% gather(key, val, matches(\\\"in\\\")) %>% ggplot(aes(di1, val, color = factor(sigma), linetype = factor(a0))) + geom_line() + facet_grid(de1 ~ key) + theme_tufte() + scale_color_colorblind()\""
   ]
  },
  {
   "cell_type": "code",
   "execution_count": null,
   "metadata": {},
   "outputs": [],
   "source": [
    "@linq CSV.read(\"/tmp/qux.csv\") |>\n",
    "    transform(in12 = :in1 .+ :in2, lam12 = :lam1 .+ :lam2) |>\n",
    "    stack([:in1, :in2, :in12]) |>\n",
    "    with(plot(:di1, :value, group = (:sigma, :a0),\n",
    "              layout = (5, 3)))"
   ]
  },
  {
   "cell_type": "markdown",
   "metadata": {},
   "source": [
    "Three bank example 6.17 from the thesis of S. Karl showing non-monotonic effect of changes in nominal debt to single firm."
   ]
  },
  {
   "cell_type": "code",
   "execution_count": null,
   "metadata": {},
   "outputs": [],
   "source": [
    "ex6_17_net(d₃) = XOSModel([0 0 0.4; 0.2 0 0; 0 0 0], [0 0 0; 0.6 0 0.1; 0 0 0], LinearAlgebra.I, [6, 11.8, d₃])\n",
    "ex6_17_a = [3, 7.2, 19]"
   ]
  },
  {
   "cell_type": "code",
   "execution_count": null,
   "metadata": {},
   "outputs": [],
   "source": [
    "ex6_17_data = DataFrame(d₁ = 6, d₂ = 11.8, d₃ = 0.1:0.05:20)\n",
    "\n",
    "function foo(d)\n",
    "    net = ex6_17_net(d)\n",
    "    debtview(net, fixvalue(net, ex6_17_a))\n",
    "end\n",
    "tmp = map(foo, ex6_17_data[:d₃])\n",
    "\n",
    "@linq ex6_17_data |>\n",
    "    transform(r₁ = map(x -> x[1], tmp),\n",
    "              r₂ = map(x -> x[2], tmp),\n",
    "              r₃ = map(x -> x[3], tmp)) |>\n",
    "    transform(in₁ = 1 .- :r₁ ./ :d₁,\n",
    "              in₂ = 1 .- :r₂ ./ :d₂,\n",
    "              in₃ = 1 .- :r₃ ./ :d₃) |>\n",
    "    transform(inall = :in₁ .+ :in₂ .+ :in₃) |>\n",
    "    with(plot(:d₃, [:in₁, :in₂, :in₃, :inall]))"
   ]
  },
  {
   "cell_type": "markdown",
   "metadata": {},
   "source": [
    "### Experiments with AutoDiff"
   ]
  },
  {
   "cell_type": "code",
   "execution_count": null,
   "metadata": {},
   "outputs": [],
   "source": [
    "using ForwardDiff"
   ]
  },
  {
   "cell_type": "code",
   "execution_count": null,
   "metadata": {},
   "outputs": [],
   "source": [
    "## Can we take derivatives of expectations?\n",
    "f(a) = expectation(Z -> Aτ(a, θ, Z), MonteCarloSampler(Normal(0, 1)), 1000)\n",
    "f([1.0, 2.0])"
   ]
  },
  {
   "cell_type": "code",
   "execution_count": null,
   "metadata": {},
   "outputs": [],
   "source": [
    "reshape(ForwardDiff.jacobian(f, [1.0, 2.0]), 2, 2, 2)"
   ]
  },
  {
   "cell_type": "code",
   "execution_count": null,
   "metadata": {},
   "outputs": [],
   "source": [
    "θ = BlackScholesParams(0., 1., 0.1)"
   ]
  },
  {
   "cell_type": "code",
   "execution_count": null,
   "metadata": {},
   "outputs": [],
   "source": [
    "## Try on insurance costs ...\n",
    "di = 0.05:0.05:1.0\n",
    "din12 = [ForwardDiff.jacobian(di₁ -> insurancecost(create_net(di₁[1], 0.8, 0.6, 0.4), [0.6, 0.6], θ), [x])\n",
    "         for x in di]\n",
    "in12 = [insurancecost(create_net(x, 0.8, 0.6, 0.4), [0.6, 0.6], θ) for x in di]"
   ]
  },
  {
   "cell_type": "code",
   "execution_count": null,
   "metadata": {},
   "outputs": [],
   "source": [
    "plt = plot()\n",
    "plot!(plt, di, map(sum, din12))\n",
    "plot!(plt, di, map(sum, in12))\n",
    "plot!(plt, di, cumsum(map(sum, din12)) .* 0.05)"
   ]
  },
  {
   "cell_type": "markdown",
   "metadata": {},
   "source": [
    "### Small benchmarks for NEVA derivatives"
   ]
  },
  {
   "cell_type": "code",
   "execution_count": null,
   "metadata": {},
   "outputs": [],
   "source": [
    "function bench(N)\n",
    "    Lᵉ = rand(Uniform(), N)\n",
    "    L  = rand(Uniform(), N, N) .* (rand(Uniform(), N, N) .< 0.4)\n",
    "    L[diagind(L)] .= 0\n",
    "    net = EisenbergNoeModel(Lᵉ, L)\n",
    "    \n",
    "    a = rand(Uniform(), N)\n",
    "    @time Ja = fixjacobian(net, a)\n",
    "    @time Jb = ForwardDiff.jacobian(a -> fixvalue(net, a; m = 0, xtol = 1e-8, ftol = 1e-8), a)\n",
    "    Ja, Jb\n",
    "end"
   ]
  },
  {
   "cell_type": "code",
   "execution_count": null,
   "metadata": {},
   "outputs": [],
   "source": [
    "Ja, Jb = bench(100)"
   ]
  },
  {
   "cell_type": "code",
   "execution_count": null,
   "metadata": {},
   "outputs": [],
   "source": [
    "sum(Ja; dims = 1)"
   ]
  },
  {
   "cell_type": "code",
   "execution_count": null,
   "metadata": {},
   "outputs": [],
   "source": [
    "sum(Jb; dims = 1)"
   ]
  },
  {
   "cell_type": "code",
   "execution_count": null,
   "metadata": {},
   "outputs": [],
   "source": [
    "all(isapprox(Ja, Jb; rtol = 1e-6))"
   ]
  },
  {
   "cell_type": "markdown",
   "metadata": {},
   "source": [
    "### Systemic insurance\n",
    "\n",
    "Here we investigate an example where one bank increases its exposure with another. We evaluate the resulting per euro cost of insurance on all liabilities held outside the banking system."
   ]
  },
  {
   "cell_type": "code",
   "execution_count": null,
   "metadata": {},
   "outputs": [],
   "source": [
    "function create_net(di₁, de₁, di₂, de₂)\n",
    "    d = [di₁ + de₁, di₂ + de₂]\n",
    "    Mᵈ = [0 (di₂ / d[2]); (di₁ / d[1]) 0]\n",
    "    XOSModel(spzeros(2,2), Mᵈ, I, d)\n",
    "end\n",
    "\n",
    "function create_net_sym(di, de)\n",
    "    d = [di + de, di + de]\n",
    "    Mᵈ = [0 (di / d[2]); (di / d[1]) 0]\n",
    "    XOSModel(spzeros(2,2), Mᵈ, I, d)\n",
    "end\n",
    "\n",
    "function debtval(net, a₀, θ)\n",
    "    N = numfirms(net)\n",
    "    expectation(Z -> discount(θ) .* debtview(net, fixvalue(net, Aτ(a₀, θ, Z); m = 0)),\n",
    "                MonteCarloSampler(MvNormal(N, 1.0)),\n",
    "                25000)\n",
    "end\n",
    "\n",
    "function extinsurancecost(di₁, de₁, di₂, de₂, a₀, θ)\n",
    "    net = create_net(di₁, de₁, di₂, de₂)\n",
    "    1 .- (debtval(net, a₀, θ) .* [de₁, de₂] ./ [di₁ + de₁, di₂ + de₂]) ./ (discount(θ) .* [de₁, de₂])\n",
    "end\n",
    "\n",
    "function extinsurancecost_sym(di, de, a₀, θ)\n",
    "    net = create_net_sym(di, de)\n",
    "    1 .- (debtval(net, a₀, θ) .* [de, de] ./ [di + de, di + de]) ./ (discount(θ) .* [de, de])\n",
    "end"
   ]
  },
  {
   "cell_type": "code",
   "execution_count": null,
   "metadata": {},
   "outputs": [],
   "source": [
    "r = 0.0\n",
    "τ = 1.0\n",
    "Lᵨ = cholesky([1.0 0; 0 1.0]).L\n",
    "\n",
    "di₂ = 0.6\n",
    "de₂ = 0.4\n",
    "df = DataFrame(di1 = Float64[], de1 = Float64[], in1 = Float64[], in2 = Float64[], sigma = Float64[], a0 = Float64[])\n",
    "\n",
    "for di₁ in range(0.01, length = 11, stop = 0.8)\n",
    "    for de₁ in range(0.01, length = 5, stop = 0.8)\n",
    "        for σ in [0.1, 0.2, 0.4]\n",
    "            θ = BlackScholesParams(r, τ, σ, Lᵨ)\n",
    "            for a₀ in [0.4, 0.6, 0.8, 1.0]\n",
    "                ins = extinsurancecost(di₁, de₁, di₂, de₂, a₀, θ)\n",
    "                push!(df, (di₁, de₁, ins[1], ins[2], σ, a₀))\n",
    "            end\n",
    "       end\n",
    "    end\n",
    "end\n",
    "\n",
    "CSV.write(\"/tmp/insu.csv\", df)"
   ]
  },
  {
   "cell_type": "code",
   "execution_count": null,
   "metadata": {},
   "outputs": [],
   "source": [
    "using RCall\n",
    "\n",
    "R\"library(tidyverse)\"\n",
    "R\"library(ggthemes)\"\n",
    "R\"library(viridis)\""
   ]
  },
  {
   "cell_type": "code",
   "execution_count": null,
   "metadata": {},
   "outputs": [],
   "source": [
    "R\"read_csv(\\\"/tmp/insu.csv\\\") %>%\n",
    "    mutate(in12 = in1 + in2) %>%\n",
    "    gather(key, val, matches(\\\"in\\\")) %>%\n",
    "    ggplot(aes(di1, val,\n",
    "               color = factor(sigma),\n",
    "               linetype = factor(a0))) +\n",
    "    geom_line() +\n",
    "    facet_grid(de1 ~ key) +\n",
    "    theme_tufte() +\n",
    "    scale_color_colorblind()\""
   ]
  },
  {
   "cell_type": "code",
   "execution_count": null,
   "metadata": {},
   "outputs": [],
   "source": [
    "df = DataFrame(di = Float64[], de = Float64[], in1 = Float64[], in2 = Float64[], sigma = Float64[], a0 = Float64[])\n",
    "\n",
    "for di in range(0.01, length = 11, stop = 0.8)\n",
    "    for de in range(0.01, length = 5, stop = 0.8)\n",
    "        for σ in [0.1, 0.2, 0.4]\n",
    "            θ = BlackScholesParams(r, τ, σ, Lᵨ)\n",
    "            for a₀ in [0.4, 0.6, 0.8, 1.0]\n",
    "                ins = extinsurancecost_sym(di, de, a₀, θ)\n",
    "                push!(df, (di, de, ins[1], ins[2], σ, a₀))\n",
    "            end\n",
    "       end\n",
    "    end\n",
    "end\n",
    "\n",
    "CSV.write(\"/tmp/insu_sym.csv\", df)"
   ]
  },
  {
   "cell_type": "code",
   "execution_count": null,
   "metadata": {},
   "outputs": [],
   "source": [
    "R\"read_csv(\\\"/tmp/insu_sym.csv\\\") %>%\n",
    "    mutate(in12 = in1 + in2) %>%\n",
    "    gather(key, val, matches(\\\"in\\\")) %>%\n",
    "    ggplot(aes(di, val,\n",
    "               color = factor(sigma),\n",
    "               linetype = factor(a0))) +\n",
    "    geom_line() +\n",
    "    facet_grid(de ~ key) +\n",
    "    theme_tufte() +\n",
    "    scale_color_colorblind()\""
   ]
  },
  {
   "cell_type": "code",
   "execution_count": null,
   "metadata": {},
   "outputs": [],
   "source": []
  }
 ],
 "metadata": {
  "@webio": {
   "lastCommId": "dccbec5e50fe43b486cfdb027dd56d3d",
   "lastKernelId": "0da696a0-2227-4dd8-9f5c-c72dcdb08647"
  },
  "kernelspec": {
   "display_name": "Julia 1.0.0",
   "language": "julia",
   "name": "julia-1.0"
  },
  "language_info": {
   "file_extension": ".jl",
   "mimetype": "application/julia",
   "name": "julia",
   "version": "1.0.0"
  }
 },
 "nbformat": 4,
 "nbformat_minor": 2
}
