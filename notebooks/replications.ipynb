{
 "cells": [
  {
   "cell_type": "code",
   "execution_count": null,
   "metadata": {},
   "outputs": [],
   "source": [
    "using Pkg\n",
    "Pkg.activate(\"/home/bertschi/GitRepos/FinNetValu/\")"
   ]
  },
  {
   "cell_type": "code",
   "execution_count": null,
   "metadata": {},
   "outputs": [],
   "source": [
    "using FinNetValu\n",
    "using Distributions\n",
    "using LinearAlgebra\n",
    "using SparseArrays\n",
    "using ForwardDiff\n",
    "using Plots"
   ]
  },
  {
   "cell_type": "markdown",
   "metadata": {},
   "source": [
    "# Demonstration of network valuations"
   ]
  },
  {
   "cell_type": "markdown",
   "metadata": {},
   "source": [
    "## Examples from Suzuki (2002)\n",
    "\n",
    "Here, we replicate some examples from the paper\n",
    "\n",
    "Teruyoshi Suzuki, *Valuing corporate debt: the effect of cross-holdings of stock and debt*, Journal of the Operations Research, Vol. 45, 2002."
   ]
  },
  {
   "cell_type": "markdown",
   "metadata": {},
   "source": [
    "We start with fig. 6 showing the default spread of firms with cross-holdings.\n",
    "\n",
    "Two firm networks corresponding to his examples A and B are defined as follows:"
   ]
  },
  {
   "cell_type": "code",
   "execution_count": null,
   "metadata": {},
   "outputs": [],
   "source": [
    "exampleA = XOSModel(spzeros(2,2), spzeros(2,2), I, [0.9, 0.9])\n",
    "exampleB = XOSModel([0.0 0.2; 0.2 0.0], spzeros(2,2), I, [0.9, 0.9])"
   ]
  },
  {
   "cell_type": "markdown",
   "metadata": {},
   "source": [
    "Next, we fix the parameters for the log-normal distributions of asset prices. Here, we only consider correlation $\\rho = -0.9$ between the Brownian motions, but you may want to experiment with other settings as well."
   ]
  },
  {
   "cell_type": "code",
   "execution_count": null,
   "metadata": {},
   "outputs": [],
   "source": [
    "r = 0.0\n",
    "T = 10.0\n",
    "σ = [0.2, 0.2]\n",
    "Lᵨ = cholesky([1.0 -0.9; -0.9 1.0]).L;"
   ]
  },
  {
   "cell_type": "markdown",
   "metadata": {},
   "source": [
    "The following functions compute the ex-ante value of firms debt and the resulting bond spread. To this end, we take the risk-neutral expectation of the discounted, self-consistent debt value at maturity. Note that we evaluate the expectation by transforming standard normal random variates $Z$ to asset prices $A_\\tau$ which are then log-normally distributed. "
   ]
  },
  {
   "cell_type": "code",
   "execution_count": null,
   "metadata": {},
   "outputs": [],
   "source": [
    "function debtval(net, τ)\n",
    "    N = numfirms(net)\n",
    "    θ = BlackScholesParams(r, τ, σ, Lᵨ)\n",
    "    expectation(Z -> discount(θ) .* debtview(net, fixvalue(net, Aτ(ones(N), θ, Z))),\n",
    "                MonteCarloSampler(MvNormal(N, 1.0)),\n",
    "                25000)\n",
    "end\n",
    "\n",
    "function spread(net, τ)\n",
    "    (log.(net.d) .- log.(debtval(net, τ))) ./ τ .- r\n",
    "end"
   ]
  },
  {
   "cell_type": "markdown",
   "metadata": {},
   "source": [
    "For the figure, bond spreads are computed over a range of different maturities. As both firms are symmetric in the examples, we could either show the bond spread of a single firm or the mean of both firms (as done here)."
   ]
  },
  {
   "cell_type": "code",
   "execution_count": null,
   "metadata": {
    "scrolled": false
   },
   "outputs": [],
   "source": [
    "maturities = range(0, length = 101, stop = T)\n",
    "@time spreadsA = [spread(exampleA, τ)\n",
    "                  for τ in maturities]\n",
    "@time spreadsB = [spread(exampleB, τ)\n",
    "                 for τ in maturities];"
   ]
  },
  {
   "cell_type": "code",
   "execution_count": null,
   "metadata": {},
   "outputs": [],
   "source": [
    "plt = plot(maturities, 10000 .* map(mean, spreadsA), label = \"Example A\",\n",
    "           xlabel = \"Bond maturity [years]\", ylabel = \"Basis points\")\n",
    "plot!(plt, maturities, 10000 .* map(mean, spreadsB), label = \"Example B, rho = -0.9\")"
   ]
  },
  {
   "cell_type": "markdown",
   "metadata": {},
   "source": [
    "With similar ease we can replicate the firm values of the larger example."
   ]
  },
  {
   "cell_type": "code",
   "execution_count": null,
   "metadata": {},
   "outputs": [],
   "source": [
    "exampleN = XOSModel([0.0 0.2 0.3 0.1; 0.2 0.0 0.2 0.1; 0.1 0.1 0.0 0.3; 0.1 0.1 0.1 0.0],\n",
    "                    [0.0 0.0 0.1 0.0; 0.0 0.0 0.0 0.1; 0.1 0.0 0.0 0.1; 0.0 0.1 0.0 0.0],\n",
    "                    I,\n",
    "                    [0.8, 0.8, 0.8, 0.8])\n",
    "\n",
    "Aₜ = [2.0, 0.5, 0.6, 0.6]\n",
    "X = zeros(8)\n",
    "println(\"X_0 = \", X')\n",
    "for i = 1:20\n",
    "    X = valuation(exampleN, X, Aₜ)\n",
    "    println(\"X_\", i, \" = \", X')\n",
    "end"
   ]
  },
  {
   "cell_type": "markdown",
   "metadata": {},
   "source": [
    "## Examples from Barucca et al. (2016)\n",
    "\n",
    "Here we replicate some figures from the paper\n",
    "\n",
    "Paolo Barucca, Marco Bardoscia, Fabio Caccioli, Marco D’Errico, Gabriele Visentin, Stefano Battiston and Guido Caldarelli, *Network Valuation in Financial Systems*, arXiv:1606.05164v2, 2016."
   ]
  },
  {
   "cell_type": "markdown",
   "metadata": {},
   "source": [
    "To reproduce figure 1, we use the simplest possible setup. I.e. we define the corresponding models with a single firm and run their valuations functions across a range of equities."
   ]
  },
  {
   "cell_type": "code",
   "execution_count": null,
   "metadata": {},
   "outputs": [],
   "source": [
    "EN = EisenbergNoeModel([0.0], 2 .* ones(1,1))\n",
    "Furfine = FurfineModel([0.0], 2 .* ones(1,1), 0)\n",
    "LinearDR = LinearDebtRankModel([0.0], 2 * ones(1,1))"
   ]
  },
  {
   "cell_type": "code",
   "execution_count": null,
   "metadata": {},
   "outputs": [],
   "source": [
    "equities = range(-3, length = 251, stop = 3)\n",
    "𝕍_EN = [EN.𝕍(EN, e, nothing)[1] for e in equities]\n",
    "𝕍_Furfine = [Furfine.𝕍(Furfine, e, nothing)[1] for e in equities]\n",
    "𝕍_LinearDR = [LinearDR.𝕍(LinearDR, e, [2.5])[1] for e in equities] # Note: A = 2.5 leads to book equity M = 2.5\n",
    "\n",
    "plt = plot(equities, 𝕍_EN, label = \"EN\",\n",
    "           xlabel = \"equity of the borrower\", ylabel = \"interbank valuation function\")\n",
    "plot!(plt, equities, 𝕍_Furfine, label = \"Furfine\")\n",
    "plot!(plt, equities, 𝕍_LinearDR, label = \"Linear DR\")"
   ]
  },
  {
   "cell_type": "markdown",
   "metadata": {},
   "source": [
    "Note that the valuation formula $\\mathbb{V}_{ij} = \\frac{E_j^+}{M_j}$ for the linear debt rank model is actually not correct in the paper as it can exceed one. In practice, this should not be a problem as a firms equity value $E_j$ never exceeds its book equity $M_j$. Here, values are clipped between 0 and 1 as in the accompanying code at https://github.com/marcobardoscia/neva"
   ]
  },
  {
   "cell_type": "markdown",
   "metadata": {},
   "source": [
    "Next, we replicate the left panel of figure 2.\n",
    "\n",
    "Note: The ex-ante version of the Eisenberg & Noe model is not yet implemented."
   ]
  },
  {
   "cell_type": "code",
   "execution_count": null,
   "metadata": {},
   "outputs": [],
   "source": [
    "# External liabilities\n",
    "Lᵉ = [9., 4., 2.]\n",
    "# Cross-holding matrix\n",
    "A = [0 0.5 0;\n",
    "     0 0 0.5;\n",
    "     0.5 0 0]\n",
    "# External asset values\n",
    "Aᵉ = [10., 5., 3.]\n",
    "\n",
    "models = [EisenbergNoeModel(Lᵉ, A'),\n",
    "          FurfineModel(Lᵉ, A', 0.0),\n",
    "          LinearDebtRankModel(Lᵉ, A')]"
   ]
  },
  {
   "cell_type": "markdown",
   "metadata": {},
   "source": [
    "Each model is then shocked by decreasing the external asset value by a factor $\\alpha$ and compute the impact on the equity value as in the paper, i.e.\n",
    "$$\n",
    "    \\frac{\\sum_i {\\Delta}E_i - {\\Delta}A^e_i}{\\sum_{ij} A_{ij}}\n",
    "$$\n",
    "where ${\\Delta}A^e = \\alpha A^e$."
   ]
  },
  {
   "cell_type": "code",
   "execution_count": null,
   "metadata": {},
   "outputs": [],
   "source": [
    "function runshock(model, Aᵉ, α)\n",
    "    E₀ = fixvalue(model, Aᵉ)\n",
    "    ΔAᵉ = α .* Aᵉ\n",
    "    ΔE  = E₀ .- fixvalue(model, Aᵉ .- ΔAᵉ)\n",
    "    sum(ΔE .- ΔAᵉ) / sum(model.A)\n",
    "end"
   ]
  },
  {
   "cell_type": "code",
   "execution_count": null,
   "metadata": {},
   "outputs": [],
   "source": [
    "αs = range(0, length = 101, stop = 0.6)\n",
    "shocks = collect(runshock(model, Aᵉ, α)\n",
    "                 for α in αs,\n",
    "                     model in models);"
   ]
  },
  {
   "cell_type": "code",
   "execution_count": null,
   "metadata": {},
   "outputs": [],
   "source": [
    "plot(αs, shocks, label = [\"EN\", \"Furfine\", \"Linear DR\"],\n",
    "     xlabel = \"shock\", ylabel = \"network contribution (relative to max)\")"
   ]
  },
  {
   "cell_type": "markdown",
   "metadata": {},
   "source": [
    "Again, the curve for the linear debt rank model looks different from the one in the paper. The reason might be that the valuation formula does not appear right when the book equity $M$ becomes negative!\n",
    "\n",
    "TODO: Investigate that and fix formula."
   ]
  },
  {
   "cell_type": "markdown",
   "metadata": {},
   "source": [
    "## Examples from our paper\n",
    "\n",
    "Here, we replicate some of the figures from the paper\n",
    "\n",
    "Nils Bertschinger and Julian Stobbe, *Systemic Greeks: Measuring risk in financial networks*, arXiv:1810.11849, 2018."
   ]
  },
  {
   "cell_type": "markdown",
   "metadata": {},
   "source": [
    "### Single firm examples\n",
    "\n",
    "We start with figure 1 and define a model with a single firm and self cross-holdings of strength $w^s$ and $w^d$ for equity and debt respectively."
   ]
  },
  {
   "cell_type": "code",
   "execution_count": null,
   "metadata": {},
   "outputs": [],
   "source": [
    "wˢ = 0.2\n",
    "wᵈ = 0.4\n",
    "singleFirm = XOSModel(wˢ .* ones(1,1), wᵈ .* ones(1,1), I, [1.0])"
   ]
  },
  {
   "cell_type": "markdown",
   "metadata": {},
   "source": [
    "The self-consistent values at maturity across different external asset values are readily computed as the fixed point of the network valuation."
   ]
  },
  {
   "cell_type": "code",
   "execution_count": null,
   "metadata": {},
   "outputs": [],
   "source": [
    "extA = range(0, length = 51, stop = 1.5)\n",
    "vals = [fixvalue(singleFirm, [a]) for a in extA]\n",
    "\n",
    "plt = plot(extA, map(sum, vals), label = \"Value\",\n",
    "           xlabel = \"External asset\")\n",
    "plot!(plt, extA, map(v -> sum(equityview(singleFirm, v)), vals), label = \"Equity\")\n",
    "plot!(plt, extA, map(v -> sum(debtview(singleFirm, v)), vals), label = \"Debt\")"
   ]
  },
  {
   "cell_type": "markdown",
   "metadata": {},
   "source": [
    "Figure 2 shows the corresponding ex-ante values. These are defined as the risk-neutral expectation of the values at maturity.\n",
    "\n",
    "We need to fix parameters for the Black-Scholes world modeling stochastic asset prices. Then, we compute the required expectations. Again we transform standard normal random variates $Z$ to asset prices $A_\\tau$ which are then log-normally distributed. "
   ]
  },
  {
   "cell_type": "code",
   "execution_count": null,
   "metadata": {},
   "outputs": [],
   "source": [
    "θ = BlackScholesParams(0.0, 1.0, 0.4)\n",
    "\n",
    "function exante_val(net, a₀, θ)\n",
    "    expectation(Z -> discount(θ) .* fixvalue(net, Aτ(a₀, θ, Z)),\n",
    "                MonteCarloSampler(MvNormal(numfirms(net), 1.0)),\n",
    "                7500)\n",
    "end"
   ]
  },
  {
   "cell_type": "code",
   "execution_count": null,
   "metadata": {},
   "outputs": [],
   "source": [
    "@time eavals = [exante_val(singleFirm, a, θ) for a in extA]\n",
    "\n",
    "plt = plot(extA, map(sum, eavals), label = \"Value\",\n",
    "           xlabel = \"External asset\")\n",
    "plot!(plt, extA, map(v -> sum(equityview(singleFirm, v)), eavals), label = \"Equity\")\n",
    "plot!(plt, extA, map(v -> sum(debtview(singleFirm, v)), eavals), label = \"Debt\")"
   ]
  },
  {
   "cell_type": "markdown",
   "metadata": {},
   "source": [
    "Similarly we can compute the Greeks.\n",
    "\n",
    "To this end, we use the index convention that these are stored in a matrix with the following format:\n",
    "\n",
    "$$ \n",
    "\\left( \\begin{array}{llll} \\Delta_{\\mathtt{Equity}} & \\mathcal{V}_{\\mathtt{Equity}} & \\Theta_{\\mathtt{Equity}} & \\rho_{\\mathtt{Equity}} \\\\\n",
    "\\Delta_{\\mathtt{Debt}} & \\mathcal{V}_{\\mathtt{Debt}} & \\Theta_{\\mathtt{Debt}} & \\rho_{\\mathtt{Debt}}\n",
    "\\end{array} \\right)\n",
    "$$\n",
    "\n",
    "The corresponding function, defined below, is reused later on larger networks."
   ]
  },
  {
   "cell_type": "code",
   "execution_count": null,
   "metadata": {},
   "outputs": [],
   "source": [
    "function calc_greeks(net, a₀, θ, Z)\n",
    "    N = numfirms(net)\n",
    "    @assert length(a₀) == N\n",
    "\n",
    "    A = Aτ(a₀, θ, Z)\n",
    "    x = fixvalue(net, A)\n",
    "    dVdA = fixjacobian(net, A, x)\n",
    "    ## Note the use of AutoDiff\n",
    "    dAdg = ForwardDiff.jacobian(g -> Aτ(g[1:N],\n",
    "                                        BlackScholesParams(g[N+3], g[N+2], g[N+1]),\n",
    "                                        Z),\n",
    "                                vcat(a₀, θ.σ, θ.τ, θ.r))\n",
    "\n",
    "    ## Formula (43) from the paper (second term in expectation)\n",
    "    dVdg = discount(θ) .* dVdA * dAdg\n",
    "    ## Store it in desired format\n",
    "    greeks = Matrix{eltype(dVdg)}(undef, 2*N, 4)\n",
    "    greeks[:, 1] .= vec(sum(view(dVdg, :, 1:N); dims = 2)) ## Total Delta over all price shocks\n",
    "    greeks[:, 2] .= view(dVdg, :, N+1)\n",
    "    ## Theta and rho have an additional contribution (first term of eq. (43)) \n",
    "    greeks[:, 3] .= .- (view(dVdg, :, N+2) .- θ.r .* discount(θ) .* x) ## Note sign convention for Theta\n",
    "    greeks[:, 4] .= view(dVdg, :, N+3) .- θ.τ .* discount(θ) .* x\n",
    "\n",
    "    greeks\n",
    "end"
   ]
  },
  {
   "cell_type": "code",
   "execution_count": null,
   "metadata": {},
   "outputs": [],
   "source": [
    "@time greeks = [expectation(Z -> calc_greeks(singleFirm, [a], θ, Z),\n",
    "                            MonteCarloSampler(MvNormal(1, 1.0)),\n",
    "                            7500)\n",
    "                for a in extA];"
   ]
  },
  {
   "cell_type": "code",
   "execution_count": null,
   "metadata": {},
   "outputs": [],
   "source": [
    "function plotvsextA(net, extA, greeks, what = :Δ)\n",
    "    idx = Dict(:Δ => 1, :V => 2, :Θ => 3, :ρ => 4)\n",
    "    plt = plot(extA, map(g -> mean(equityview(net, g[:, idx[what]]) .+ debtview(net, g[:, idx[what]])), greeks), label = \"Value\",\n",
    "               xlabel = \"External asset\")\n",
    "    plot!(plt, extA, map(g -> mean(equityview(net, g[:, idx[what]])), greeks), label = \"Equity\")\n",
    "    plot!(plt, extA, map(g -> mean(debtview(net, g[:, idx[what]])), greeks), label = \"Debt\")\n",
    "    plt\n",
    "end"
   ]
  },
  {
   "cell_type": "code",
   "execution_count": null,
   "metadata": {},
   "outputs": [],
   "source": [
    "plts = [plotvsextA(singleFirm, extA, greeks, what) for what in [:Δ, :V, :Θ, :ρ]]\n",
    "plot(plts..., layout = (2, 2))"
   ]
  },
  {
   "cell_type": "markdown",
   "metadata": {},
   "source": [
    "Note that figures 1-3 of the paper use analytic formulas for the single firm case. This is not only faster, but also free of Monte-Carlo errors. Yet, it is a nice sanity check that the numerical results reproduce the corresponding part of figure 3 as well."
   ]
  },
  {
   "cell_type": "markdown",
   "metadata": {},
   "source": [
    "### Network examples\n",
    "\n",
    "#### Two firm example\n",
    "\n",
    "Figure 4 is actually itself a replication of figure 6 of the paper\n",
    "\n",
    "Sabine Karl and Tom Fischer, *Cross-ownership as a structural explanation for over- and underestimation of default probability*, Quantitative Finance, 14:6, 2014.\n",
    "\n",
    "We fix parameters and create the two firms network."
   ]
  },
  {
   "cell_type": "code",
   "execution_count": null,
   "metadata": {},
   "outputs": [],
   "source": [
    "θ = BlackScholesParams(0.0, 1.0, 1.0)\n",
    "a₀ = [1.0, 1.0]\n",
    "twoFirms = XOSModel(spzeros(2, 2), [0.0 0.95; 0.95 0.0], I, [11.3, 11.3])"
   ]
  },
  {
   "cell_type": "code",
   "execution_count": null,
   "metadata": {},
   "outputs": [],
   "source": [
    "Z = rand(MvNormal(2, 1.0), 750)\n",
    "A = mapslices(z -> Aτ(a₀, θ, z), Z; dims = 1)\n",
    "X = mapslices(a -> fixvalue(twoFirms, a), A; dims = 1)\n",
    "sol = mapslices(x -> solvent(twoFirms, x), X; dims = 1)\n",
    "V = mapslices(x -> equityview(twoFirms, x) .+ debtview(twoFirms, x), X; dims = 1)"
   ]
  },
  {
   "cell_type": "markdown",
   "metadata": {},
   "source": [
    "Coloring by the solvency of both firms, we can replicate our figure."
   ]
  },
  {
   "cell_type": "code",
   "execution_count": null,
   "metadata": {},
   "outputs": [],
   "source": [
    "cols = sol[1,:] .+ 2.0 .* sol[2,:]; ## Convert solvencies to different numbers"
   ]
  },
  {
   "cell_type": "code",
   "execution_count": null,
   "metadata": {},
   "outputs": [],
   "source": [
    "plot(scatter(A[1, :], A[2, :], zcolor = cols, scale = :log10),\n",
    "     scatter(V[1, :], V[2, :], zcolor = cols, scale = :log10))"
   ]
  },
  {
   "cell_type": "markdown",
   "metadata": {},
   "source": [
    "As in Karl and Fischer (2014) we can fit a log-normal to the values and plot samples from it. This replicates their figure."
   ]
  },
  {
   "cell_type": "code",
   "execution_count": null,
   "metadata": {},
   "outputs": [],
   "source": [
    "dist = fit_mle(MvNormal, log.(V)) # Quick and dirty log-normal fit\n",
    "S = exp.(rand(dist, 1000))\n",
    "solS = mapslices(s -> s .> twoFirms.d, S; dims = 1)\n",
    "\n",
    "plot(scatter(V[1, :], V[2, :], zcolor = cols),\n",
    "     scatter(S[1, :], S[2, :], zcolor = solS[1,:] .+ 2.0 .* solS[2,:]))"
   ]
  },
  {
   "cell_type": "markdown",
   "metadata": {},
   "source": [
    "#### Erdos-Renyi networks\n",
    "\n",
    "Figure 5, 6 and 7 use Erdos-Renyi random graphs. In figure 5 we show different network statistics over initial asset values $a_0$ for several average connectivities $<k>$. In particular, we compute equity value, debt value, total value $= \\mathtt{equity} + \\mathtt{debt}$, default probability, capital ratio $= \\frac{\\mathtt{equity}}{\\mathtt{equity} + \\mathtt{debt}}$ and fraction of external assets $= \\frac{A_{\\tau}}{\\mathtt{equity} + \\mathtt{debt}}$."
   ]
  },
  {
   "cell_type": "code",
   "execution_count": null,
   "metadata": {},
   "outputs": [],
   "source": [
    "function figure5(N, wᵈ, what)\n",
    "    a₀ = range(0, length = 21, stop = 2.5)\n",
    "    kavg = [0.25, 0.5, 0.75, 1.0, 1.5, 2.5, 4.0]\n",
    "    θ = BlackScholesParams(0.0, 1.0, 0.4)\n",
    "\n",
    "    plt = plot()\n",
    "    for k in kavg\n",
    "        net = XOSModel(spzeros(N, N),\n",
    "                       rescale(erdosrenyi(N, k / N), wᵈ),\n",
    "                       I, ones(N))\n",
    "        funcs = Dict(:Equity  => x -> equityview(net, x),\n",
    "                     :Debt    => x -> debtview(net, x),\n",
    "                     :Total   => x -> equityview(net, x) .+ debtview(net, x),\n",
    "                     :Default => x -> solvent(net, x),\n",
    "                     :Capital => x -> equityview(net, x) ./ (equityview(net, x) .+ debtview(net, x)))\n",
    "        ## Note: Fraction of external assets not shown here.\n",
    "        ##       Think about how you could support it ... needs external asset values as well.\n",
    "    \n",
    "        vals = [expectation(z -> funcs[what](fixvalue(net, Aτ(a, θ, z))),\n",
    "                            MonteCarloSampler(MvNormal(N, 1.0)),\n",
    "                            2500)\n",
    "                for a in a₀]\n",
    "        plot!(plt, a₀, map(mean, vals), label = string(\"k_avg = \", k))\n",
    "    end\n",
    "    plt\n",
    "end"
   ]
  },
  {
   "cell_type": "code",
   "execution_count": null,
   "metadata": {},
   "outputs": [],
   "source": [
    "@time figure5(60, 0.4, :Debt)"
   ]
  },
  {
   "cell_type": "markdown",
   "metadata": {},
   "source": [
    "Figure 6 shows the network Greeks. We reuse the function calc_greeks defined above to simplify computations here."
   ]
  },
  {
   "cell_type": "code",
   "execution_count": null,
   "metadata": {},
   "outputs": [],
   "source": [
    "function figure6data(N, kavg, wᵈ)\n",
    "    a₀ = range(0, length = 31, stop = 2.5)\n",
    "    nextnet = calm(() -> XOSModel(spzeros(N, N),\n",
    "                                  rescale(erdosrenyi(N, kavg / N), wᵈ),\n",
    "                                  I, ones(N)),\n",
    "                   1000) # Draw new network each thousand samples\n",
    "    greeks = [expectation(Z -> calc_greeks(nextnet(), a .* ones(N), θ, Z),\n",
    "                          MonteCarloSampler(MvNormal(1, 1.0)),\n",
    "                          25000)\n",
    "              for a in a₀]\n",
    "    nextnet(), a₀, greeks\n",
    "end\n",
    "\n",
    "N = 60\n",
    "@time netER, extAER, greeksER = figure6data(N, 1.2, 0.4);"
   ]
  },
  {
   "cell_type": "code",
   "execution_count": null,
   "metadata": {},
   "outputs": [],
   "source": [
    "function figure6(net, extA, greeks, what = :Delta)\n",
    "    idx = Dict(:Δ => 1, :V => 2, :Θ => 3, :ρ => 4)\n",
    "    plt = plot(extA, map(g -> mean(equityview(net, g[:, idx[what]]) .+ debtview(net, g[:, idx[what]])), greeks), label = \"Value\",\n",
    "               xlabel = \"External asset\")\n",
    "    plot!(plt, extA, map(g -> mean(equityview(net, g[:, idx[what]])), greeks), label = \"Equity\")\n",
    "    plot!(plt, extA, map(g -> mean(debtview(net, g[:, idx[what]])), greeks), label = \"Debt\")\n",
    "    plt\n",
    "end\n",
    "\n",
    "figure6(netER, extAER, greeksER, :Δ)"
   ]
  },
  {
   "cell_type": "code",
   "execution_count": null,
   "metadata": {},
   "outputs": [],
   "source": []
  }
 ],
 "metadata": {
  "@webio": {
   "lastCommId": "8221a10dc011472d9d5a7ba0381c16b9",
   "lastKernelId": "5571ff65-8308-4a33-ade7-aad3909fe0a8"
  },
  "kernelspec": {
   "display_name": "Julia 1.0.0",
   "language": "julia",
   "name": "julia-1.0"
  },
  "language_info": {
   "file_extension": ".jl",
   "mimetype": "application/julia",
   "name": "julia",
   "version": "1.0.0"
  }
 },
 "nbformat": 4,
 "nbformat_minor": 2
}
